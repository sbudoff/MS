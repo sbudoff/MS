{
 "cells": [
  {
   "cell_type": "markdown",
   "metadata": {},
   "source": [
    "# Repeated Measures ANOVA for Movement\n",
    "The purpose of this workbook is to use the seperate animal data from eahc anima and condition to find the repeated measures ANOVA values for the movement assays of average velocity and average hunch over time during the experiment."
   ]
  },
  {
   "cell_type": "markdown",
   "metadata": {},
   "source": [
    "## Data Input\n",
    "This section of the workbook inports the data files, and rearranges them so they can more easily be worked with"
   ]
  },
  {
   "cell_type": "code",
   "execution_count": 1,
   "metadata": {},
   "outputs": [],
   "source": [
    "# This cell will import libraries\n",
    "import numpy as np\n",
    "import pandas as pd\n",
    "import scipy.integrate\n",
    "from scipy import stats\n",
    "from matplotlib import pyplot as plt\n",
    "from os import listdir\n",
    "from IPython.display import display\n",
    "from statsmodels.formula.api import ols\n",
    "from statsmodels.stats.anova import anova_lm\n",
    "\n",
    "font = {'fontname':'Liberation Serif'}"
   ]
  },
  {
   "cell_type": "code",
   "execution_count": 2,
   "metadata": {},
   "outputs": [
    {
     "name": "stdout",
     "output_type": "stream",
     "text": [
      "This directory contains 8 files which have been loaded\n",
      "Files loaded\n"
     ]
    }
   ],
   "source": [
    "# This cell loads the files generated in the Movement Analysis workbook\n",
    "\n",
    "# File paths to be used while importing and merging\n",
    "data_path_pd='/home/sam/Science/microdialysis/MSDissertation/Behavior/DLC_CSVs/Output/PD/ind/'\n",
    "data_path_sham='/home/sam/Science/microdialysis/MSDissertation/Behavior/DLC_CSVs/Output/Sham/ind/'\n",
    "\n",
    "\n",
    "# Code for finding names of all CSVs in the specified folder \n",
    "def find_csv_filenames( path_to_dir, suffix=\".csv\" ):\n",
    "    filenames = listdir(path_to_dir)\n",
    "    return [ filename for filename in filenames if filename.endswith( suffix ) ]\n",
    "\n",
    "file_names_pd = find_csv_filenames(data_path_pd, suffix=\".csv\" )\n",
    "file_names_sham=find_csv_filenames(data_path_sham, suffix=\".csv\" )\n",
    "print(\"This directory contains\",str((len(file_names_pd)+len(file_names_sham))),\"files which have been loaded\")\n",
    "\n",
    "\n",
    "sham_COM=pd.DataFrame()\n",
    "sham_Hunch=pd.DataFrame()\n",
    "df=pd.DataFrame()\n",
    "\n",
    "\n",
    "\n",
    "for name in file_names_sham:\n",
    "    if name[0:3]==\"COM\":\n",
    "        df=pd.read_csv(data_path_sham+name)\n",
    "        for ii in range(len(df)):\n",
    "            df.loc[ii, \"Animal\"]=name[-6:-4]\n",
    "\n",
    "        sham_COM=sham_COM.append(df,ignore_index=True)\n",
    "\n",
    "    if name[0:3]==\"Hun\":\n",
    "        df=pd.read_csv(data_path_sham+name)\n",
    "        for ii in range(len(df)):\n",
    "            df.loc[ii, \"Animal\"]=name[-6:-4]\n",
    "\n",
    "        sham_Hunch=sham_Hunch.append(df)\n",
    "\n",
    "\n",
    "    \n",
    "pd_COM=pd.DataFrame()\n",
    "pd_Hunch=pd.DataFrame()\n",
    "\n",
    "\n",
    "for name in file_names_pd:\n",
    "    if name[0:3]==\"COM\":\n",
    "        df=pd.read_csv(data_path_pd+name)\n",
    "        for ii in range(len(df)):\n",
    "            df.loc[ii, \"Animal\"]=name[-6:-4]\n",
    "\n",
    "        pd_COM=pd_COM.append(df,ignore_index=True)\n",
    "\n",
    "    if name[0:3]==\"Hun\":\n",
    "        df=pd.read_csv(data_path_pd+name)\n",
    "        for ii in range(len(df)):\n",
    "            df.loc[ii, \"Animal\"]=name[-6:-4]\n",
    "  \n",
    "        pd_Hunch=pd_Hunch.append(df)\n",
    "\n",
    "sham_COM=sham_COM.reset_index(drop=True)\n",
    "sham_Hunch=sham_Hunch.reset_index(drop=True)\n",
    "pd_COM=pd_COM.reset_index(drop=True)\n",
    "pd_Hunch=pd_Hunch.reset_index(drop=True)\n",
    "\n",
    "print(\"Files loaded\")"
   ]
  },
  {
   "cell_type": "code",
   "execution_count": 3,
   "metadata": {
    "scrolled": true
   },
   "outputs": [
    {
     "name": "stderr",
     "output_type": "stream",
     "text": [
      "/home/sam/anaconda3/envs/jup/lib/python3.7/site-packages/ipykernel_launcher.py:29: SettingWithCopyWarning: \n",
      "A value is trying to be set on a copy of a slice from a DataFrame\n",
      "\n",
      "See the caveats in the documentation: http://pandas.pydata.org/pandas-docs/stable/indexing.html#indexing-view-versus-copy\n",
      "/home/sam/anaconda3/envs/jup/lib/python3.7/site-packages/ipykernel_launcher.py:34: SettingWithCopyWarning: \n",
      "A value is trying to be set on a copy of a slice from a DataFrame\n",
      "\n",
      "See the caveats in the documentation: http://pandas.pydata.org/pandas-docs/stable/indexing.html#indexing-view-versus-copy\n"
     ]
    }
   ],
   "source": [
    "#This cell will stack the Hunch and COM files such that the unstimulated period procedes the stimulated period\n",
    "    #this allows them to be used to more easily compare Sham animals and Parkinsonian animals\n",
    "\n",
    "def stacker(df,name,group):\n",
    "    store=pd.DataFrame()\n",
    "    for index in range(len(df)):\n",
    "        store.loc[index,name]=df.loc[index,\"Unstimulated\"]\n",
    "        store.loc[index,\"Time\"]=int(df.loc[index,\"Time (min)\"])\n",
    "        store.loc[index,\"Animal\"]=df.loc[index,\"Animal\"]\n",
    "        store.loc[index,\"Condition\"]=\"Unstimulated\"\n",
    "        store.loc[index,\"Group\"]=group\n",
    "\n",
    "    for index in range(len(df)):\n",
    "#         The stack_index is the continuation of hte end of the index range in the proceding part of the df\n",
    "        stack_index=len(df)+index\n",
    "        store.loc[stack_index,name]=df.loc[index,\"Stimulated\"]\n",
    "        store.loc[stack_index,\"Animal\"]=df.loc[index,\"Animal\"]\n",
    "\n",
    "#         Time is incremented by adding each time value to the highest possible so it continues in sequence\n",
    "        store.loc[stack_index,\"Time\"]=int(df.loc[index,\"Time (min)\"])+int(df.loc[(len(df)-1),\"Time (min)\"])\n",
    "        store.loc[stack_index,\"Condition\"]=\"Stimulated\"\n",
    "        store.loc[index,\"Group\"]=group\n",
    "    return(store)\n",
    "\n",
    "\n",
    "x=stacker(pd_Hunch,\"Hunch\", \"PD\")\n",
    "y=stacker(sham_Hunch,\"Hunch\", \"Sham\")\n",
    "Hunch=pd.concat([x,y], sort=True)\n",
    "Hunch[\"Group\"][Hunch[\"Group\"]!=\"PD\"]=\"Sham\"\n",
    "\n",
    "x=stacker(pd_COM,\"COM\",\"PD\")\n",
    "y=stacker(sham_COM,\"COM\",\"Sham\")\n",
    "COM=x.append(y, sort=True)\n",
    "COM[\"Group\"][COM[\"Group\"]!=\"PD\"]=\"Sham\"\n"
   ]
  },
  {
   "cell_type": "markdown",
   "metadata": {},
   "source": [
    "# R\n",
    "The below cells run stastics through R"
   ]
  },
  {
   "cell_type": "code",
   "execution_count": 4,
   "metadata": {},
   "outputs": [],
   "source": [
    "%load_ext rpy2.ipython"
   ]
  },
  {
   "cell_type": "code",
   "execution_count": null,
   "metadata": {},
   "outputs": [],
   "source": [
    "def binaryer(df1, name):\n",
    "\n",
    "    df=df1.reset_index(drop=True)\n",
    "    for ii in range(len(df)):\n",
    "        df.loc[ii,name]=round(df.loc[ii,name],3)\n",
    "        df.loc[ii,\"Time\"]=df.loc[ii,\"Time\"].astype(int)\n",
    "#         print(type(df.loc[ii,\"Time\"]))\n",
    "        \n",
    "        if df.loc[ii,\"Animal\"] == \"D3\":\n",
    "            df.loc[ii,\"Animal\"] = 0\n",
    "        elif df.loc[ii,\"Animal\"] == \"D2\":\n",
    "            df.loc[ii,\"Animal\"] = 1\n",
    "        elif df.loc[ii,\"Animal\"] == \"D4\":\n",
    "            df.loc[ii,\"Animal\"] = 2\n",
    "        elif df.loc[ii,\"Animal\"] == \"12\":\n",
    "            df.loc[ii,\"Animal\"] = 3\n",
    "        elif df.loc[ii,\"Animal\"] == \"11\":\n",
    "            df.loc[ii,\"Animal\"] = 4\n",
    "            \n",
    "        if df.loc[ii,\"Condition\"] == \"Unstimulated\":\n",
    "            df.loc[ii,\"Condition\"] = 0\n",
    "        else:\n",
    "            df.loc[ii,\"Condition\"] = 1\n",
    "        \n",
    "        if df.loc[ii,\"Group\"] == \"PD\":\n",
    "            df.loc[ii,\"Group\"] = 0\n",
    "        else:\n",
    "            df.loc[ii,\"Group\"] = 1\n",
    "    return(df)\n",
    "\n",
    "# def musher(df):\n",
    "#     for animal in range(len(df[\"Animal\"].unique())):\n",
    "#         if df[\"Animal\"]==\n",
    "    \n",
    "#     for ii in range(len(df[\"Time\"].unique())):\n",
    "#         if df.loc[ii,\"Time\"]== 1+ df.loc[ii-1,\"Time\"]:\n",
    "            \n",
    "\n",
    "\n",
    "\n",
    "\n",
    "hunch=binaryer(Hunch, \"Hunch\")\n",
    "\n",
    "\n",
    "display(hunch.head)\n",
    "com.to_csv('hunch_pspp.csv')\n",
    "\n"
   ]
  },
  {
   "cell_type": "code",
   "execution_count": 6,
   "metadata": {},
   "outputs": [
    {
     "ename": "NameError",
     "evalue": "name 'com' is not defined",
     "output_type": "error",
     "traceback": [
      "\u001b[0;31m---------------------------------------------------------------------------\u001b[0m",
      "\u001b[0;31mNameError\u001b[0m                                 Traceback (most recent call last)",
      "\u001b[0;32m<ipython-input-6-5a74c0b8323f>\u001b[0m in \u001b[0;36m<module>\u001b[0;34m\u001b[0m\n\u001b[0;32m----> 1\u001b[0;31m \u001b[0mxxx\u001b[0m\u001b[0;34m=\u001b[0m\u001b[0mcom\u001b[0m\u001b[0;34m[\u001b[0m\u001b[0;34m\"Animal\"\u001b[0m\u001b[0;34m]\u001b[0m\u001b[0;34m.\u001b[0m\u001b[0munique\u001b[0m\u001b[0;34m(\u001b[0m\u001b[0;34m)\u001b[0m\u001b[0;34m\u001b[0m\u001b[0;34m\u001b[0m\u001b[0m\n\u001b[0m\u001b[1;32m      2\u001b[0m \u001b[0;34m\u001b[0m\u001b[0m\n\u001b[1;32m      3\u001b[0m \u001b[0mcom\u001b[0m\u001b[0;34m[\u001b[0m\u001b[0;34m\"Animal\"\u001b[0m\u001b[0;34m]\u001b[0m\u001b[0;34m[\u001b[0m\u001b[0;36m24\u001b[0m\u001b[0;34m]\u001b[0m\u001b[0;34m==\u001b[0m\u001b[0mxxx\u001b[0m\u001b[0;34m[\u001b[0m\u001b[0;36m0\u001b[0m\u001b[0;34m]\u001b[0m\u001b[0;34m\u001b[0m\u001b[0;34m\u001b[0m\u001b[0m\n\u001b[1;32m      4\u001b[0m \u001b[0;34m\u001b[0m\u001b[0m\n\u001b[1;32m      5\u001b[0m \u001b[0mcom\u001b[0m\u001b[0;34m.\u001b[0m\u001b[0mloc\u001b[0m\u001b[0;34m[\u001b[0m\u001b[0;36m0\u001b[0m\u001b[0;34m:\u001b[0m\u001b[0;36m22\u001b[0m\u001b[0;34m,\u001b[0m\u001b[0;34m\"Time\"\u001b[0m\u001b[0;34m]\u001b[0m\u001b[0;34m.\u001b[0m\u001b[0mmean\u001b[0m\u001b[0;34m(\u001b[0m\u001b[0;34m)\u001b[0m\u001b[0;34m\u001b[0m\u001b[0;34m\u001b[0m\u001b[0m\n",
      "\u001b[0;31mNameError\u001b[0m: name 'com' is not defined"
     ]
    }
   ],
   "source": [
    "xxx=com[\"Animal\"].unique()\n",
    "\n",
    "com[\"Animal\"][24]==xxx[0]\n",
    "\n",
    "com.loc[0:22,\"Time\"].mean()\n",
    "\n",
    "def musher(df,name):\n",
    "    mush=pd.DataFrame()\n",
    "\n",
    "    for animal in df[\"Animal\"].unique():\n",
    "        seg=df[df[\"Animal\"]== animal]\n",
    "        \n",
    "        try:\n",
    "            mush.loc[0,name]=seg.loc[(seg[\"Time\"][0]):seg[\"Time\"][9],name].mean()\n",
    "            mush.loc[0,\"Aniamal\"]=animal\n",
    "            mush.loc[0,\"Time\"]=10\n",
    "            mush.loc[1,name]=seg.loc[seg[\"Time\"][10]:seg[\"Time\"][19],name].mean()\n",
    "            mush.loc[1,\"Aniamal\"]=animal\n",
    "            mush.loc[1,\"Time\"]=20\n",
    "            mush.loc[2,name]=seg.loc[seg[\"Time\"][20]:seg[\"Time\"][22],name].mean()\n",
    "            mush.loc[2,\"Aniamal\"]=animal\n",
    "            mush.loc[2,\"Time\"]=30\n",
    "            mush.loc[3,name]=seg.loc[seg[\"Time\"][30]:seg[\"Time\"][39],name].mean()\n",
    "            mush.loc[3,\"Aniamal\"]=animal\n",
    "            mush.loc[3,\"Time\"]=40\n",
    "            mush.loc[4,name]=seg.loc[seg[\"Time\"][40]:seg[\"Time\"][49],name].mean()\n",
    "            mush.loc[4,\"Aniamal\"]=animal\n",
    "            mush.loc[4,\"Time\"]=50\n",
    "            mush.loc[5,name]=seg.loc[seg[\"Time\"][50]:seg[\"Time\"][59],name].mean()\n",
    "            mush.loc[5,\"Aniamal\"]=animal\n",
    "            mush.loc[5,\"Time\"]=60\n",
    "            print(\"end\")\n",
    "            \n",
    "        except:\n",
    "          print(\"An exception occurred\"+animal)\n",
    "#         mush.loc[0,\"Time\"]=seg.loc[0:9,\"Time\"].sum()\n",
    "#         mush.loc[1,\"Time\"]=seg.loc[10:19,\"Time\"].sum()\n",
    "#         mush.loc[2,\"Time\"]=seg.loc[20:29,\"Time\"].sum()\n",
    "#         mush.loc[3,\"Time\"]=seg.loc[30:39,\"Time\"].sum()\n",
    "#         mush.loc[4,\"Time\"]=seg.loc[40:49,\"Time\"].sum()\n",
    "#         mush.loc[5,\"Time\"]=seg.loc[50:-1,\"Time\"].sum()\n",
    "        display(mush)\n",
    "musher(COM,\"COM\")\n",
    "display(Hunch[\"Time\"][9])"
   ]
  },
  {
   "cell_type": "code",
   "execution_count": 7,
   "metadata": {},
   "outputs": [
    {
     "name": "stdout",
     "output_type": "stream",
     "text": [
      "[1] \"COM Repeated Measures ANOVA values:\"\n",
      "                                      Df Sum Sq Mean Sq F value  Pr(>F)   \n",
      "interaction(Time)                     58  129.9   2.239   0.926 0.62373   \n",
      "interaction(Group)                     1   21.9  21.906   9.054 0.00314 **\n",
      "interaction(Time):interaction(Group)  29   10.9   0.377   0.156 1.00000   \n",
      "Residuals                            133  321.8   2.419                   \n",
      "---\n",
      "Signif. codes:  0 ‘***’ 0.001 ‘**’ 0.01 ‘*’ 0.05 ‘.’ 0.1 ‘ ’ 1\n"
     ]
    }
   ],
   "source": [
    "%%R -i Hunch -i COM\n",
    "#This R cell calculates the repeated measures ANOVA value for the COM\n",
    "\n",
    "print(\"COM Repeated Measures ANOVA values:\")\n",
    "summary(aov(COM ~ interaction(Time) * interaction(Group) , data=COM))"
   ]
  },
  {
   "cell_type": "code",
   "execution_count": 8,
   "metadata": {},
   "outputs": [
    {
     "name": "stdout",
     "output_type": "stream",
     "text": [
      "[1] \"Hunch Repeated Measures ANOVA values:\"\n",
      "                                      Df Sum Sq Mean Sq F value   Pr(>F)    \n",
      "interaction(Time)                     58  919.4    15.9   1.359   0.0769 .  \n",
      "interaction(Group)                     1  753.4   753.4  64.571 4.59e-13 ***\n",
      "interaction(Condition)                 1    0.0     0.0   0.000   0.9843    \n",
      "interaction(Time):interaction(Group)  29   86.2     3.0   0.255   1.0000    \n",
      "Residuals                            132 1540.1    11.7                     \n",
      "---\n",
      "Signif. codes:  0 ‘***’ 0.001 ‘**’ 0.01 ‘*’ 0.05 ‘.’ 0.1 ‘ ’ 1\n"
     ]
    }
   ],
   "source": [
    "%%R -i Hunch -i COM\n",
    "#This R cell calculates the repeated measures ANOVA value for the Hunchin\n",
    "\n",
    "print(\"Hunch Repeated Measures ANOVA values:\")\n",
    "summary(aov(Hunch ~ interaction(Time) * interaction(Group) * interaction(Condition), data=Hunch))"
   ]
  },
  {
   "cell_type": "code",
   "execution_count": 9,
   "metadata": {},
   "outputs": [],
   "source": [
    "com_rounded=[1,2,1,3,3,3,1,1,2,2,2,6,0,0,0,0,1,1,1,0,1,0,0,0]\n",
    "\n"
   ]
  },
  {
   "cell_type": "code",
   "execution_count": 11,
   "metadata": {},
   "outputs": [
    {
     "data": {
      "text/html": [
       "<div>\n",
       "<style scoped>\n",
       "    .dataframe tbody tr th:only-of-type {\n",
       "        vertical-align: middle;\n",
       "    }\n",
       "\n",
       "    .dataframe tbody tr th {\n",
       "        vertical-align: top;\n",
       "    }\n",
       "\n",
       "    .dataframe thead th {\n",
       "        text-align: right;\n",
       "    }\n",
       "</style>\n",
       "<table border=\"1\" class=\"dataframe\">\n",
       "  <thead>\n",
       "    <tr style=\"text-align: right;\">\n",
       "      <th></th>\n",
       "      <th>sample</th>\n",
       "      <th>Day</th>\n",
       "      <th>Time</th>\n",
       "      <th>A</th>\n",
       "    </tr>\n",
       "  </thead>\n",
       "  <tbody>\n",
       "    <tr>\n",
       "      <th>0</th>\n",
       "      <td>A</td>\n",
       "      <td>0</td>\n",
       "      <td>0</td>\n",
       "      <td>5.30</td>\n",
       "    </tr>\n",
       "    <tr>\n",
       "      <th>1</th>\n",
       "      <td>B</td>\n",
       "      <td>0</td>\n",
       "      <td>0</td>\n",
       "      <td>5.52</td>\n",
       "    </tr>\n",
       "    <tr>\n",
       "      <th>2</th>\n",
       "      <td>C</td>\n",
       "      <td>0</td>\n",
       "      <td>0</td>\n",
       "      <td>4.84</td>\n",
       "    </tr>\n",
       "    <tr>\n",
       "      <th>3</th>\n",
       "      <td>A</td>\n",
       "      <td>1</td>\n",
       "      <td>0</td>\n",
       "      <td>5.26</td>\n",
       "    </tr>\n",
       "    <tr>\n",
       "      <th>4</th>\n",
       "      <td>B</td>\n",
       "      <td>1</td>\n",
       "      <td>0</td>\n",
       "      <td>4.93</td>\n",
       "    </tr>\n",
       "  </tbody>\n",
       "</table>\n",
       "</div>"
      ],
      "text/plain": [
       "  sample  Day  Time     A\n",
       "0      A    0     0  5.30\n",
       "1      B    0     0  5.52\n",
       "2      C    0     0  4.84\n",
       "3      A    1     0  5.26\n",
       "4      B    1     0  4.93"
      ]
     },
     "execution_count": 11,
     "metadata": {},
     "output_type": "execute_result"
    }
   ],
   "source": [
    "OX=pd.read_csv(\"/home/sam/Documents/IIN-ELS/Defesa/6-OHDA_ox.csv\")\n",
    "\n",
    "OX0 = OX[OX[\"Time\"]==0] \n",
    "\n",
    "OX0_clean= OX0[OX0[\"Note\"]!=\"UV\"]\n",
    "OX0_clean= OX0[OX0[\"Note\"]!=\"FRESH\"]\n",
    "OX0_clean=OX0_clean.drop(columns=\"Note\")\n",
    "OX0_clean.columns=[\"sample\",\"Day\",\"Time\",\"A\"]\n",
    "\n",
    "OX0_clean=OX0_clean.reset_index(drop=True)\n",
    "\n",
    "OX0_clean.head()\n",
    "\n",
    "# display(stats.ttest_rel()"
   ]
  },
  {
   "cell_type": "code",
   "execution_count": 12,
   "metadata": {},
   "outputs": [
    {
     "name": "stdout",
     "output_type": "stream",
     "text": [
      "[1] \"data.frame\"\n",
      "            Df Sum Sq Mean Sq F value Pr(>F)\n",
      "Day          9  29.26   3.251   1.691  0.149\n",
      "Residuals   23  44.23   1.923               \n"
     ]
    }
   ],
   "source": [
    "%%R -i OX0_clean\n",
    "# -i Hunch -i com\n",
    "\n",
    "#This cell is running R code, after loading R from the cell above\n",
    "ox <- OX0_clean\n",
    "\n",
    "\n",
    "\n",
    "print(class(ox['Day']))\n",
    "\n",
    "\n",
    "pairwise.t.test(ox$A, ox$Day, p.adj=\"holm\")\n",
    "#LSD.test(ox$A,ox$Day)\n",
    "\n",
    "ox$Day<-factor(ox$Day)\n",
    "summary(aov(A ~ Day, data=ox))"
   ]
  }
 ],
 "metadata": {
  "kernelspec": {
   "display_name": "Python 3",
   "language": "python",
   "name": "python3"
  },
  "language_info": {
   "codemirror_mode": {
    "name": "ipython",
    "version": 3
   },
   "file_extension": ".py",
   "mimetype": "text/x-python",
   "name": "python",
   "nbconvert_exporter": "python",
   "pygments_lexer": "ipython3",
   "version": "3.7.3"
  }
 },
 "nbformat": 4,
 "nbformat_minor": 2
}

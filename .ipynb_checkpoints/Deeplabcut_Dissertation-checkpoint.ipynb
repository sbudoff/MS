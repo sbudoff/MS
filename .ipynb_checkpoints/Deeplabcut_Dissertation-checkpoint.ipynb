{
 "cells": [
  {
   "cell_type": "markdown",
   "metadata": {},
   "source": [
    "# Deeplabcut Workflow with trained network\n",
    "This jupyter contains the step by step commands for analyzing a new video, evaluating it, extacting outlier frames and ultimately refining the network. It was originally written to to make troubleshooting faster than re-entering every command in ipython, but has been adapted to iteratively analyze all video files and export CSVs"
   ]
  },
  {
   "cell_type": "markdown",
   "metadata": {},
   "source": [
    "### Start Deeplabcut and select relevant file paths"
   ]
  },
  {
   "cell_type": "code",
   "execution_count": 15,
   "metadata": {},
   "outputs": [],
   "source": [
    "import deeplabcut as dlc\n",
    "\n",
    "config_path = '/home/sam/Science/microdialysis/Microdialysis_Accute-Sam-2019-05-11/config.yaml'"
   ]
  },
  {
   "cell_type": "code",
   "execution_count": null,
   "metadata": {},
   "outputs": [
    {
     "name": "stdout",
     "output_type": "stream",
     "text": [
      "Their are 6 sham condition movies which have been loaded\n",
      "Their are 10 PD condition movies which have been loaded\n",
      "Starting to analyze Sham videos\n",
      "Analyzing /home/sam/Science/microdialysis/MSDissertation/Behavior/Experiment_Videos/Sham/D11_stim_30min.avi\n",
      "Using snapshot-144000 for model /home/sam/Science/microdialysis/Microdialysis_Accute-Sam-2019-05-11/dlc-models/iteration-7/Microdialysis_AccuteMay11-trainset95shuffle1\n",
      "INFO:tensorflow:Restoring parameters from /home/sam/Science/microdialysis/Microdialysis_Accute-Sam-2019-05-11/dlc-models/iteration-7/Microdialysis_AccuteMay11-trainset95shuffle1/train/snapshot-144000\n"
     ]
    },
    {
     "name": "stderr",
     "output_type": "stream",
     "text": [
      "INFO:tensorflow:Restoring parameters from /home/sam/Science/microdialysis/Microdialysis_Accute-Sam-2019-05-11/dlc-models/iteration-7/Microdialysis_AccuteMay11-trainset95shuffle1/train/snapshot-144000\n",
      "  0%|          | 0/55351 [00:00<?, ?it/s]"
     ]
    },
    {
     "name": "stdout",
     "output_type": "stream",
     "text": [
      "Starting to analyze %  /home/sam/Science/microdialysis/MSDissertation/Behavior/Experiment_Videos/Sham/D11_stim_30min.avi\n",
      "Loading  /home/sam/Science/microdialysis/MSDissertation/Behavior/Experiment_Videos/Sham/D11_stim_30min.avi\n",
      "Duration of video [s]:  1845.01 , recorded with  30.0 fps!\n",
      "Overall # of frames:  55351  found with (before cropping) frame dimensions:  1280 720\n",
      "Starting to extract posture\n"
     ]
    },
    {
     "name": "stderr",
     "output_type": "stream",
     "text": [
      " 53%|█████▎    | 29309/55351 [1:40:39<1:31:41,  4.73it/s]"
     ]
    }
   ],
   "source": [
    "# This cell will import video files and analyze them\n",
    "\n",
    "from os import listdir\n",
    "\n",
    "# File paths to be used while importing and analyzing\n",
    "data_path1='/home/sam/Science/microdialysis/MSDissertation/Behavior/Experiment_Videos/Sham'\n",
    "\n",
    "data_path2='/home/sam/Science/microdialysis/MSDissertation/Behavior/Experiment_Videos/PD'\n",
    "\n",
    "\n",
    "# Code for finding names of all videos in the specified folder \n",
    "def find_movies_filenames(path_to_dir):\n",
    "    filenames = listdir(path_to_dir)\n",
    "    return [ filename for filename in filenames]\n",
    "\n",
    "# Save all file names in a list to be used by the DLC_loader function\n",
    "Sham = find_movies_filenames(data_path1)\n",
    "print(\"Their are\",str((len(Sham))),\"sham condition movies which have been loaded\")\n",
    "\n",
    "PD = find_movies_filenames(data_path2)\n",
    "print(\"Their are\",str((len(PD))),\"PD condition movies which have been loaded\")\n",
    "\n",
    "# This function will sequentially (i) read each video path, (ii) analyze it, and (iii) save CSVs & labeled videos\n",
    "def DLC_loader(data_path,file_names):\n",
    "\n",
    "    for name in file_names:\n",
    "        video_path=data_path+\"/\"+name\n",
    "        print(\"Analyzing\", video_path)\n",
    "\n",
    "        dlc.analyze_videos(config_path, [video_path],save_as_csv=True)\n",
    "\n",
    "        dlc.create_labeled_video(config_path,[video_path])\n",
    "\n",
    "    print(\"All files have been analyzed and converted to movies and CSVs\")\n",
    "    return()\n",
    "\n",
    "\n",
    "print(\"Starting to analyze Sham videos\")\n",
    "\n",
    "DLC_loader(data_path1,Sham)\n",
    "\n",
    "print(\"Starting to analyze PD videos\")\n",
    "\n",
    "DLC_loader(data_path2,PD)"
   ]
  },
  {
   "cell_type": "code",
   "execution_count": null,
   "metadata": {},
   "outputs": [
    {
     "name": "stdout",
     "output_type": "stream",
     "text": [
      "Their are 6 sham condition movies which have been loaded\n",
      "Their are 10 PD condition movies which have been loaded\n",
      "Starting to analyze Sham videos\n",
      "Analyzing /home/sam/Science/microdialysis/MSDissertation/Behavior/Experiment_Videos/Sham/D11_stim_30min.avi\n",
      "Using snapshot-144000 for model /home/sam/Science/microdialysis/Microdialysis_Accute-Sam-2019-05-11/dlc-models/iteration-7/Microdialysis_AccuteMay11-trainset95shuffle1\n",
      "INFO:tensorflow:Restoring parameters from /home/sam/Science/microdialysis/Microdialysis_Accute-Sam-2019-05-11/dlc-models/iteration-7/Microdialysis_AccuteMay11-trainset95shuffle1/train/snapshot-144000\n"
     ]
    },
    {
     "name": "stderr",
     "output_type": "stream",
     "text": [
      "INFO:tensorflow:Restoring parameters from /home/sam/Science/microdialysis/Microdialysis_Accute-Sam-2019-05-11/dlc-models/iteration-7/Microdialysis_AccuteMay11-trainset95shuffle1/train/snapshot-144000\n",
      "  0%|          | 0/55351 [00:00<?, ?it/s]"
     ]
    },
    {
     "name": "stdout",
     "output_type": "stream",
     "text": [
      "Starting to analyze %  /home/sam/Science/microdialysis/MSDissertation/Behavior/Experiment_Videos/Sham/D11_stim_30min.avi\n",
      "Loading  /home/sam/Science/microdialysis/MSDissertation/Behavior/Experiment_Videos/Sham/D11_stim_30min.avi\n",
      "Duration of video [s]:  1845.01 , recorded with  30.0 fps!\n",
      "Overall # of frames:  55351  found with (before cropping) frame dimensions:  1280 720\n",
      "Starting to extract posture\n"
     ]
    },
    {
     "name": "stderr",
     "output_type": "stream",
     "text": [
      " 53%|█████▎    | 29309/55351 [1:40:39<1:31:41,  4.73it/s]"
     ]
    }
   ],
   "source": [
    "# This cell will import video files and analyze them\n",
    "\n",
    "from os import listdir\n",
    "\n",
    "# File paths to be used while importing and analyzing\n",
    "data_path='/home/sam/Science/microdialysis/MSDissertation/Behavior/Experiment_Videos/PD/final/'\n",
    "\n",
    "\n",
    "# Code for finding names of all videos in the specified folder \n",
    "def find_movies_filenames(path_to_dir):\n",
    "    filenames = listdir(path_to_dir)\n",
    "    return [ filename for filename in filenames]\n",
    "\n",
    "\n",
    "PD = find_movies_filenames(data_path)\n",
    "print(\"Their are\",str((len(PD))),\"PD condition movies which have been loaded\")\n",
    "\n",
    "# This function will sequentially (i) read each video path, (ii) analyze it, and (iii) save CSVs & labeled videos\n",
    "def DLC_loader(data_path,file_names):\n",
    "\n",
    "    for name in file_names:\n",
    "        video_path=data_path+\"/\"+name\n",
    "        print(\"Analyzing\", video_path)\n",
    "\n",
    "        dlc.analyze_videos(config_path, [video_path],save_as_csv=True)\n",
    "\n",
    "        dlc.create_labeled_video(config_path,[video_path])\n",
    "\n",
    "    print(\"All files have been analyzed and converted to movies and CSVs\")\n",
    "    return()\n",
    "\n",
    "print(\"Starting to analyze PD videos\")\n",
    "\n",
    "DLC_loader(data_path,PD)"
   ]
  },
  {
   "cell_type": "markdown",
   "metadata": {},
   "source": [
    "### Analyze the new video"
   ]
  },
  {
   "cell_type": "code",
   "execution_count": 4,
   "metadata": {
    "scrolled": true
   },
   "outputs": [
    {
     "name": "stderr",
     "output_type": "stream",
     "text": [
      "/home/sam/anaconda3/envs/dlc/lib/python3.6/site-packages/deeplabcut/pose_estimation_tensorflow/config.py:43: YAMLLoadWarning: calling yaml.load() without Loader=... is deprecated, as the default Loader is unsafe. Please read https://msg.pyyaml.org/load for full details.\n",
      "  yaml_cfg = edict(yaml.load(f))\n"
     ]
    },
    {
     "name": "stdout",
     "output_type": "stream",
     "text": [
      "Using snapshot-144000 for model /home/sam/Science/microdialysis/Microdialysis_Accute-Sam-2019-05-11/dlc-models/iteration-7/Microdialysis_AccuteMay11-trainset95shuffle1\n",
      "INFO:tensorflow:Restoring parameters from /home/sam/Science/microdialysis/Microdialysis_Accute-Sam-2019-05-11/dlc-models/iteration-7/Microdialysis_AccuteMay11-trainset95shuffle1/train/snapshot-144000\n"
     ]
    },
    {
     "name": "stderr",
     "output_type": "stream",
     "text": [
      "INFO:tensorflow:Restoring parameters from /home/sam/Science/microdialysis/Microdialysis_Accute-Sam-2019-05-11/dlc-models/iteration-7/Microdialysis_AccuteMay11-trainset95shuffle1/train/snapshot-144000\n",
      "  0%|          | 0/2895 [00:00<?, ?it/s]"
     ]
    },
    {
     "name": "stdout",
     "output_type": "stream",
     "text": [
      "Starting to analyze %  /home/sam/Science/microdialysis/videos/D4/D4_unstim_bug.mp4\n",
      "Loading  /home/sam/Science/microdialysis/videos/D4/D4_unstim_bug.mp4\n",
      "Duration of video [s]:  120.62 , recorded with  24.0 fps!\n",
      "Overall # of frames:  2895  found with (before cropping) frame dimensions:  1280 720\n",
      "Starting to extract posture\n"
     ]
    },
    {
     "name": "stderr",
     "output_type": "stream",
     "text": [
      "2912it [11:05,  4.30it/s]                          "
     ]
    },
    {
     "name": "stdout",
     "output_type": "stream",
     "text": [
      "Detected frames:  2895\n"
     ]
    },
    {
     "name": "stderr",
     "output_type": "stream",
     "text": [
      "\n",
      "\r",
      "  0%|          | 0/10856 [00:00<?, ?it/s]"
     ]
    },
    {
     "name": "stdout",
     "output_type": "stream",
     "text": [
      "Saving results in /home/sam/Science/microdialysis/videos/D4...\n",
      "Saving csv poses!\n",
      "Starting to analyze %  /home/sam/Science/microdialysis/videos/extremes.mpg\n",
      "Loading  /home/sam/Science/microdialysis/videos/extremes.mpg\n",
      "Duration of video [s]:  434.24 , recorded with  25.0 fps!\n",
      "Overall # of frames:  10856  found with (before cropping) frame dimensions:  720 576\n",
      "Starting to extract posture\n"
     ]
    },
    {
     "name": "stderr",
     "output_type": "stream",
     "text": [
      "10908it [23:05,  9.47it/s]                           "
     ]
    },
    {
     "name": "stdout",
     "output_type": "stream",
     "text": [
      "Detected frames:  10856\n",
      "Saving results in /home/sam/Science/microdialysis/videos...\n"
     ]
    },
    {
     "name": "stderr",
     "output_type": "stream",
     "text": [
      "\n"
     ]
    },
    {
     "name": "stdout",
     "output_type": "stream",
     "text": [
      "Saving csv poses!\n",
      "The videos are analyzed. Now your research can truly start! \n",
      " You can create labeled videos with 'create_labeled_video'.\n",
      "If the tracking is not satisfactory for some videos, consider expanding the training set. You can use the function 'extract_outlier_frames' to extract any outlier frames!\n",
      "Starting %  /home/sam/Science/microdialysis/videos/D4 ['/home/sam/Science/microdialysis/videos/D4/D4_unstim_bug.mp4', '/home/sam/Science/microdialysis/videos/extremes.mpg']\n",
      "Loading  /home/sam/Science/microdialysis/videos/D4/D4_unstim_bug.mp4 and data.\n",
      "False 0 1280 0 720\n",
      "2895\n"
     ]
    },
    {
     "name": "stderr",
     "output_type": "stream",
     "text": [
      "\r",
      "  0%|          | 0/2895 [00:00<?, ?it/s]"
     ]
    },
    {
     "name": "stdout",
     "output_type": "stream",
     "text": [
      "Duration of video [s]:  120.62 , recorded with  24.0 fps!\n",
      "Overall # of frames:  2895 with cropped frame dimensions:  1280 720\n",
      "Generating frames and creating video.\n"
     ]
    },
    {
     "name": "stderr",
     "output_type": "stream",
     "text": [
      "100%|██████████| 2895/2895 [00:17<00:00, 161.69it/s]\n",
      "  0%|          | 26/10856 [00:00<00:42, 252.39it/s]"
     ]
    },
    {
     "name": "stdout",
     "output_type": "stream",
     "text": [
      "Starting %  /home/sam/Science/microdialysis/videos ['/home/sam/Science/microdialysis/videos/D4/D4_unstim_bug.mp4', '/home/sam/Science/microdialysis/videos/extremes.mpg']\n",
      "Loading  /home/sam/Science/microdialysis/videos/extremes.mpg and data.\n",
      "False 0 720 0 576\n",
      "10856\n",
      "Duration of video [s]:  434.24 , recorded with  25.0 fps!\n",
      "Overall # of frames:  10856 with cropped frame dimensions:  720 576\n",
      "Generating frames and creating video.\n"
     ]
    },
    {
     "name": "stderr",
     "output_type": "stream",
     "text": [
      "100%|██████████| 10856/10856 [00:35<00:00, 305.59it/s]\n"
     ]
    }
   ],
   "source": [
    "dlc.analyze_videos(config_path, [video_path, video_path4],save_as_csv=True)\n",
    "\n",
    "dlc.create_labeled_video(config_path,[video_path, video_path4])"
   ]
  },
  {
   "cell_type": "markdown",
   "metadata": {},
   "source": [
    "### Extract Outlier frames "
   ]
  },
  {
   "cell_type": "code",
   "execution_count": 11,
   "metadata": {
    "scrolled": false
   },
   "outputs": [
    {
     "name": "stdout",
     "output_type": "stream",
     "text": [
      "network parameters: DeepCut_resnet50_Microdialysis_AccuteMay11shuffle1_45000\n",
      "Method  uncertain  found  181  putative outlier frames.\n",
      "Do you want to proceed with extracting  20  of those?\n",
      "If this list is very large, perhaps consider changing the paramters (start, stop, p_bound, comparisonbodyparts) or use a different method.\n",
      "yes/noyes\n"
     ]
    },
    {
     "name": "stderr",
     "output_type": "stream",
     "text": [
      "\n",
      "0it [00:00, ?it/s]\u001b[A\n",
      "54it [00:00, 532.70it/s]\u001b[A"
     ]
    },
    {
     "name": "stdout",
     "output_type": "stream",
     "text": [
      "Frames from video extremes  already extracted (more will be added)!\n",
      "Loading video...\n",
      "Duration of video [s]:  434.24 , recorded @  25.0 fps!\n",
      "Overall # of frames:  10856 with (cropped) frame dimensions: \n",
      "Kmeans-quantization based extracting of frames from 0.0  seconds to 434.24  seconds.\n",
      "Extracting and downsampling... 181  frames from the video.\n"
     ]
    },
    {
     "name": "stderr",
     "output_type": "stream",
     "text": [
      "\n",
      "105it [00:00, 520.57it/s]\u001b[A\n",
      "157it [00:00, 518.75it/s]\u001b[A\n",
      "181it [00:00, 504.36it/s]\u001b[A"
     ]
    },
    {
     "name": "stdout",
     "output_type": "stream",
     "text": [
      "Kmeans clustering ... (this might take a while)\n",
      "Let's select frames indices: [4868, 4526, 1586, 9812, 4196, 444, 1858, 9168, 2461, 4443, 6896, 3160, 1041, 4781, 6946, 10372, 8006, 3878, 2421, 132]\n"
     ]
    },
    {
     "name": "stderr",
     "output_type": "stream",
     "text": [
      "/home/sam/anaconda3/envs/dlc/lib/python3.6/site-packages/skimage/io/_io.py:140: UserWarning: /home/sam/Science/microdialysis/Microdialysis_Accute-Sam-2019-05-11/labeled-data/extremes/img04196.png is a low contrast image\n",
      "  warn('%s is a low contrast image' % fname)\n"
     ]
    },
    {
     "name": "stdout",
     "output_type": "stream",
     "text": [
      "New video was added to the project! Use the function 'extract_frames' to select frames for labeling.\n",
      "The outlier frames are extracted. They are stored in the subdirectory labeled-data\\extremes.\n",
      "Once you extracted frames for all videos, use 'refine_labels' to manually correct the labels.\n"
     ]
    }
   ],
   "source": [
    "dlc.extract_outlier_frames(config_path,[video_path4],outlieralgorithm=\"uncertain\")"
   ]
  },
  {
   "cell_type": "code",
   "execution_count": 6,
   "metadata": {},
   "outputs": [
    {
     "name": "stderr",
     "output_type": "stream",
     "text": [
      "/home/sam/anaconda3/envs/dlc/lib/python3.6/site-packages/deeplabcut/generate_training_dataset/frame_extraction.py:100: YAMLLoadWarning: calling yaml.load() without Loader=... is deprecated, as the default Loader is unsafe. Please read https://msg.pyyaml.org/load for full details.\n",
      "  cfg = yaml.load(ymlfile)\n"
     ]
    },
    {
     "name": "stdout",
     "output_type": "stream",
     "text": [
      "Config file read successfully.\n",
      "Do you want to extract (perhaps additional) frames for video: /home/sam/Science/microdialysis/videos/D4/D4_Stim.avi ?\n",
      "yes/noyes\n"
     ]
    },
    {
     "name": "stderr",
     "output_type": "stream",
     "text": [
      "53it [00:00, 525.77it/s]"
     ]
    },
    {
     "name": "stdout",
     "output_type": "stream",
     "text": [
      "Extracting frames based on kmeans ...\n",
      "Kmeans-quantization based extracting of frames from 0.0  seconds to 5974.01  seconds.\n",
      "Extracting and downsampling... 94518  frames from the video.\n"
     ]
    },
    {
     "name": "stderr",
     "output_type": "stream",
     "text": [
      "94518it [02:40, 589.35it/s]\n"
     ]
    },
    {
     "name": "stdout",
     "output_type": "stream",
     "text": [
      "Kmeans clustering ... (this might take a while)\n",
      "Do you want to extract (perhaps additional) frames for video: /home/sam/Science/microdialysis/videos/D4/D4_unstim.avi ?\n",
      "yes/nono\n",
      "Do you want to extract (perhaps additional) frames for video: /home/sam/Science/microdialysis/videos/D11/D11_stim.avi ?\n",
      "yes/nono\n",
      "Do you want to extract (perhaps additional) frames for video: /home/sam/Science/microdialysis/videos/D11/D11_unstim.avi ?\n",
      "yes/nono\n",
      "Do you want to extract (perhaps additional) frames for video: /home/sam/Science/microdialysis/videos/D12/D12_stim.avi ?\n",
      "yes/nono\n",
      "Do you want to extract (perhaps additional) frames for video: /home/sam/Science/microdialysis/videos/D12/D12_unstim.avi ?\n",
      "yes/nono\n",
      "Do you want to extract (perhaps additional) frames for video: /home/sam/Science/microdialysis/videos/D4/D4_unstim_bug.mp4 ?\n",
      "yes/nono\n",
      "\n",
      "Frames were selected.\n",
      "You can now label the frames using the function 'label_frames' (if you extracted enough frames for all videos).\n"
     ]
    }
   ],
   "source": [
    "dlc.extract_frames(config_path)"
   ]
  },
  {
   "cell_type": "code",
   "execution_count": 7,
   "metadata": {},
   "outputs": [
    {
     "name": "stdout",
     "output_type": "stream",
     "text": [
      "Found new frames..\n",
      "You can now check the labels, using 'check_labels' before proceeding. Then, you can use the function 'create_training_dataset' to create the training dataset.\n"
     ]
    }
   ],
   "source": [
    "dlc.label_frames(config_path)"
   ]
  },
  {
   "cell_type": "code",
   "execution_count": 12,
   "metadata": {},
   "outputs": [
    {
     "name": "stdout",
     "output_type": "stream",
     "text": [
      "Linux\n",
      "Checking labels if they are outside the image\n",
      "A training dataset file is already found for this video. The refined machine labels are merged to this data!\n",
      "Linux\n",
      "Checking labels if they are outside the image\n",
      "A training dataset file is already found for this video. The refined machine labels are merged to this data!\n",
      "Linux\n",
      "Checking labels if they are outside the image\n",
      "Found RHPaw outside the image labeled-data/movement_comp/img00263.png.Setting it to NaN\n",
      "Found TailBase outside the image labeled-data/movement_comp/img00263.png.Setting it to NaN\n",
      "A training dataset file is already found for this video. The refined machine labels are merged to this data!\n",
      "Linux\n",
      "Checking labels if they are outside the image\n",
      "Closing... The refined labels are stored in a subdirectory under labeled-data. Use the function 'merge_datasets' to augment the training dataset, and then re-train a network using create_training_dataset followed by train_network!\n"
     ]
    }
   ],
   "source": [
    "dlc.refine_labels(config_path)\n",
    "# here"
   ]
  },
  {
   "cell_type": "code",
   "execution_count": 10,
   "metadata": {},
   "outputs": [
    {
     "name": "stdout",
     "output_type": "stream",
     "text": [
      "Creating images with labels by Sam.\n",
      "/home/sam/Science/microdialysis/Microdialysis_Accute-Sam-2019-05-11/labeled-data/D4_Stim_labeled  already exists!\n",
      "They are stored in the following folder: /home/sam/Science/microdialysis/Microdialysis_Accute-Sam-2019-05-11/labeled-data/D4_Stim_labeled.\n",
      "/home/sam/Science/microdialysis/Microdialysis_Accute-Sam-2019-05-11/labeled-data/D4_unstim_labeled  already exists!\n",
      "They are stored in the following folder: /home/sam/Science/microdialysis/Microdialysis_Accute-Sam-2019-05-11/labeled-data/D4_unstim_labeled.\n",
      "/home/sam/Science/microdialysis/Microdialysis_Accute-Sam-2019-05-11/labeled-data/D11_stim_labeled  already exists!\n",
      "They are stored in the following folder: /home/sam/Science/microdialysis/Microdialysis_Accute-Sam-2019-05-11/labeled-data/D11_stim_labeled.\n",
      "/home/sam/Science/microdialysis/Microdialysis_Accute-Sam-2019-05-11/labeled-data/D11_unstim_labeled  already exists!\n",
      "They are stored in the following folder: /home/sam/Science/microdialysis/Microdialysis_Accute-Sam-2019-05-11/labeled-data/D11_unstim_labeled.\n",
      "/home/sam/Science/microdialysis/Microdialysis_Accute-Sam-2019-05-11/labeled-data/D12_stim_labeled  already exists!\n",
      "They are stored in the following folder: /home/sam/Science/microdialysis/Microdialysis_Accute-Sam-2019-05-11/labeled-data/D12_stim_labeled.\n",
      "/home/sam/Science/microdialysis/Microdialysis_Accute-Sam-2019-05-11/labeled-data/D12_unstim_labeled  already exists!\n",
      "They are stored in the following folder: /home/sam/Science/microdialysis/Microdialysis_Accute-Sam-2019-05-11/labeled-data/D12_unstim_labeled.\n",
      "/home/sam/Science/microdialysis/Microdialysis_Accute-Sam-2019-05-11/labeled-data/D4_unstim_bug_labeled  already exists!\n",
      "They are stored in the following folder: /home/sam/Science/microdialysis/Microdialysis_Accute-Sam-2019-05-11/labeled-data/D4_unstim_bug_labeled.\n",
      "/home/sam/Science/microdialysis/Microdialysis_Accute-Sam-2019-05-11/labeled-data/D4_stim_move_labeled  already exists!\n",
      "They are stored in the following folder: /home/sam/Science/microdialysis/Microdialysis_Accute-Sam-2019-05-11/labeled-data/D4_stim_move_labeled.\n",
      "If all the labels are ok, then use the function 'create_training_dataset' to create the training dataset!\n"
     ]
    }
   ],
   "source": [
    "dlc.check_labels(config_path)"
   ]
  },
  {
   "cell_type": "markdown",
   "metadata": {},
   "source": [
    "### Merge the outliers into the dataset and retrain the network"
   ]
  },
  {
   "cell_type": "code",
   "execution_count": null,
   "metadata": {
    "scrolled": true
   },
   "outputs": [
    {
     "name": "stdout",
     "output_type": "stream",
     "text": [
      "Merged data sets and updated refinement iteration to 6.\n",
      "Now you can create a new training set for the expanded annotated images (use create_training_dataset).\n"
     ]
    },
    {
     "name": "stderr",
     "output_type": "stream",
     "text": [
      "/home/sam/anaconda3/envs/dlc/lib/python3.6/site-packages/deeplabcut/generate_training_dataset/trainingsetmanipulation.py:328: YAMLLoadWarning: calling yaml.load() without Loader=... is deprecated, as the default Loader is unsafe. Please read https://msg.pyyaml.org/load for full details.\n",
      "  docs.append(yaml.load(raw_doc))\n"
     ]
    },
    {
     "name": "stdout",
     "output_type": "stream",
     "text": [
      "The training dataset is successfully created. Use the function 'train_network' to start training. Happy training!\n",
      "INFO:tensorflow:Restoring parameters from /home/sam/anaconda3/envs/dlc/lib/python3.6/site-packages/deeplabcut/pose_estimation_tensorflow/models/pretrained/resnet_v1_50.ckpt\n"
     ]
    },
    {
     "name": "stderr",
     "output_type": "stream",
     "text": [
      "INFO:tensorflow:Restoring parameters from /home/sam/anaconda3/envs/dlc/lib/python3.6/site-packages/deeplabcut/pose_estimation_tensorflow/models/pretrained/resnet_v1_50.ckpt\n",
      "Restoring parameters from /home/sam/anaconda3/envs/dlc/lib/python3.6/site-packages/deeplabcut/pose_estimation_tensorflow/models/pretrained/resnet_v1_50.ckpt\n"
     ]
    },
    {
     "name": "stdout",
     "output_type": "stream",
     "text": [
      "Display_iters overwritten as 100\n",
      "Save_iters overwritten as 1000\n",
      "Training parameter:\n",
      "{'stride': 8.0, 'weigh_part_predictions': False, 'weigh_negatives': False, 'fg_fraction': 0.25, 'weigh_only_present_joints': False, 'mean_pixel': [123.68, 116.779, 103.939], 'shuffle': True, 'snapshot_prefix': '/home/sam/Science/microdialysis/Microdialysis_Accute-Sam-2019-05-11/dlc-models/iteration-6/Microdialysis_AccuteMay11-trainset95shuffle1/train/snapshot', 'log_dir': 'log', 'global_scale': 0.8, 'location_refinement': True, 'locref_stdev': 7.2801, 'locref_loss_weight': 0.05, 'locref_huber_loss': True, 'optimizer': 'sgd', 'intermediate_supervision': False, 'intermediate_supervision_layer': 12, 'regularize': False, 'weight_decay': 0.0001, 'mirror': False, 'crop_pad': 0, 'scoremap_dir': 'test', 'dataset_type': 'default', 'use_gt_segm': False, 'batch_size': 1, 'video': False, 'video_batch': False, 'crop': True, 'cropratio': 0.4, 'minsize': 100, 'leftwidth': 400, 'rightwidth': 400, 'topheight': 400, 'bottomheight': 400, 'all_joints': [[0], [1], [2], [3], [4], [5]], 'all_joints_names': ['Nose', 'RFPaw', 'LFPaw', 'RHPaw', 'LHPaw', 'TailBase'], 'dataset': 'training-datasets/iteration-6/UnaugmentedDataSet_Microdialysis_AccuteMay11/Microdialysis_Accute_Sam95shuffle1.mat', 'init_weights': '/home/sam/anaconda3/envs/dlc/lib/python3.6/site-packages/deeplabcut/pose_estimation_tensorflow/models/pretrained/resnet_v1_50.ckpt', 'net_type': 'resnet_50', 'num_joints': 6, 'display_iters': 1000, 'max_input_size': 1500, 'metadataset': 'training-datasets/iteration-6/UnaugmentedDataSet_Microdialysis_AccuteMay11/Documentation_data-Microdialysis_Accute_95shuffle1.pickle', 'min_input_size': 64, 'multi_step': [[0.005, 10000], [0.02, 430000], [0.002, 730000], [0.001, 1030000]], 'pos_dist_thresh': 17, 'project_path': '/home/sam/Science/microdialysis/Microdialysis_Accute-Sam-2019-05-11', 'save_iters': 50000, 'scale_jitter_lo': 0.5, 'scale_jitter_up': 1.25}\n",
      "Starting training....\n"
     ]
    }
   ],
   "source": [
    "dlc.merge_datasets(config_path)\n",
    "dlc.create_training_dataset(config_path)\n",
    "dlc.train_network(config_path, displayiters=100,saveiters=1000)"
   ]
  },
  {
   "cell_type": "code",
   "execution_count": 3,
   "metadata": {
    "scrolled": true
   },
   "outputs": [
    {
     "name": "stdout",
     "output_type": "stream",
     "text": [
      "/home/sam/Science/microdialysis/Microdialysis_Accute-Sam-2019-05-11/evaluation-results/  already exists!\n",
      "Running  DeepCut_resnet50_Microdialysis_AccuteMay11shuffle1_25000  with # of trainingiterations: 25000\n"
     ]
    },
    {
     "name": "stderr",
     "output_type": "stream",
     "text": [
      "/home/sam/anaconda3/envs/dlc/lib/python3.6/site-packages/deeplabcut/pose_estimation_tensorflow/config.py:43: YAMLLoadWarning: calling yaml.load() without Loader=... is deprecated, as the default Loader is unsafe. Please read https://msg.pyyaml.org/load for full details.\n",
      "  yaml_cfg = edict(yaml.load(f))\n"
     ]
    },
    {
     "ename": "InternalError",
     "evalue": "Failed to create session.",
     "output_type": "error",
     "traceback": [
      "\u001b[0;31m---------------------------------------------------------------------------\u001b[0m",
      "\u001b[0;31mFileNotFoundError\u001b[0m                         Traceback (most recent call last)",
      "\u001b[0;32m~/anaconda3/envs/dlc/lib/python3.6/site-packages/deeplabcut/pose_estimation_tensorflow/evaluate.py\u001b[0m in \u001b[0;36mevaluate_network\u001b[0;34m(config, Shuffles, plotting, show_errors, comparisonbodyparts, gputouse)\u001b[0m\n\u001b[1;32m    152\u001b[0m                 \u001b[0;32mtry\u001b[0m\u001b[0;34m:\u001b[0m\u001b[0;34m\u001b[0m\u001b[0;34m\u001b[0m\u001b[0m\n\u001b[0;32m--> 153\u001b[0;31m                     \u001b[0mDataMachine\u001b[0m \u001b[0;34m=\u001b[0m \u001b[0mpd\u001b[0m\u001b[0;34m.\u001b[0m\u001b[0mread_hdf\u001b[0m\u001b[0;34m(\u001b[0m\u001b[0mresultsfilename\u001b[0m\u001b[0;34m,\u001b[0m\u001b[0;34m'df_with_missing'\u001b[0m\u001b[0;34m)\u001b[0m\u001b[0;34m\u001b[0m\u001b[0;34m\u001b[0m\u001b[0m\n\u001b[0m\u001b[1;32m    154\u001b[0m                     \u001b[0mprint\u001b[0m\u001b[0;34m(\u001b[0m\u001b[0;34m\"This net has already been evaluated!\"\u001b[0m\u001b[0;34m)\u001b[0m\u001b[0;34m\u001b[0m\u001b[0;34m\u001b[0m\u001b[0m\n",
      "\u001b[0;32m~/anaconda3/envs/dlc/lib/python3.6/site-packages/pandas/io/pytables.py\u001b[0m in \u001b[0;36mread_hdf\u001b[0;34m(path_or_buf, key, mode, **kwargs)\u001b[0m\n\u001b[1;32m    346\u001b[0m             raise compat.FileNotFoundError(\n\u001b[0;32m--> 347\u001b[0;31m                 'File %s does not exist' % path_or_buf)\n\u001b[0m\u001b[1;32m    348\u001b[0m \u001b[0;34m\u001b[0m\u001b[0m\n",
      "\u001b[0;31mFileNotFoundError\u001b[0m: File /home/sam/Science/microdialysis/Microdialysis_Accute-Sam-2019-05-11/evaluation-results/iteration-6/Microdialysis_AccuteMay11-trainset95shuffle1/DeepCut_resnet50_Microdialysis_AccuteMay11shuffle1_25000-snapshot-25000.h5 does not exist",
      "\nDuring handling of the above exception, another exception occurred:\n",
      "\u001b[0;31mInternalError\u001b[0m                             Traceback (most recent call last)",
      "\u001b[0;32m<ipython-input-3-52f2b1c2f2aa>\u001b[0m in \u001b[0;36m<module>\u001b[0;34m\u001b[0m\n\u001b[0;32m----> 1\u001b[0;31m \u001b[0mdlc\u001b[0m\u001b[0;34m.\u001b[0m\u001b[0mevaluate_network\u001b[0m\u001b[0;34m(\u001b[0m\u001b[0mconfig_path\u001b[0m\u001b[0;34m,\u001b[0m \u001b[0mplotting\u001b[0m\u001b[0;34m=\u001b[0m\u001b[0;32mTrue\u001b[0m\u001b[0;34m)\u001b[0m\u001b[0;34m\u001b[0m\u001b[0;34m\u001b[0m\u001b[0m\n\u001b[0m",
      "\u001b[0;32m~/anaconda3/envs/dlc/lib/python3.6/site-packages/deeplabcut/pose_estimation_tensorflow/evaluate.py\u001b[0m in \u001b[0;36mevaluate_network\u001b[0;34m(config, Shuffles, plotting, show_errors, comparisonbodyparts, gputouse)\u001b[0m\n\u001b[1;32m    155\u001b[0m                 \u001b[0;32mexcept\u001b[0m \u001b[0mFileNotFoundError\u001b[0m\u001b[0;34m:\u001b[0m\u001b[0;34m\u001b[0m\u001b[0;34m\u001b[0m\u001b[0m\n\u001b[1;32m    156\u001b[0m                     \u001b[0;31m# Specifying state of model (snapshot / training state)\u001b[0m\u001b[0;34m\u001b[0m\u001b[0;34m\u001b[0m\u001b[0;34m\u001b[0m\u001b[0m\n\u001b[0;32m--> 157\u001b[0;31m                     \u001b[0msess\u001b[0m\u001b[0;34m,\u001b[0m \u001b[0minputs\u001b[0m\u001b[0;34m,\u001b[0m \u001b[0moutputs\u001b[0m \u001b[0;34m=\u001b[0m \u001b[0mptf_predict\u001b[0m\u001b[0;34m.\u001b[0m\u001b[0msetup_pose_prediction\u001b[0m\u001b[0;34m(\u001b[0m\u001b[0mdlc_cfg\u001b[0m\u001b[0;34m)\u001b[0m\u001b[0;34m\u001b[0m\u001b[0;34m\u001b[0m\u001b[0m\n\u001b[0m\u001b[1;32m    158\u001b[0m \u001b[0;34m\u001b[0m\u001b[0m\n\u001b[1;32m    159\u001b[0m                     \u001b[0mNumimages\u001b[0m \u001b[0;34m=\u001b[0m \u001b[0mlen\u001b[0m\u001b[0;34m(\u001b[0m\u001b[0mData\u001b[0m\u001b[0;34m.\u001b[0m\u001b[0mindex\u001b[0m\u001b[0;34m)\u001b[0m\u001b[0;34m\u001b[0m\u001b[0;34m\u001b[0m\u001b[0m\n",
      "\u001b[0;32m~/anaconda3/envs/dlc/lib/python3.6/site-packages/deeplabcut/pose_estimation_tensorflow/nnet/predict.py\u001b[0m in \u001b[0;36msetup_pose_prediction\u001b[0;34m(cfg)\u001b[0m\n\u001b[1;32m     20\u001b[0m \u001b[0;34m\u001b[0m\u001b[0m\n\u001b[1;32m     21\u001b[0m     \u001b[0mrestorer\u001b[0m \u001b[0;34m=\u001b[0m \u001b[0mtf\u001b[0m\u001b[0;34m.\u001b[0m\u001b[0mtrain\u001b[0m\u001b[0;34m.\u001b[0m\u001b[0mSaver\u001b[0m\u001b[0;34m(\u001b[0m\u001b[0;34m)\u001b[0m\u001b[0;34m\u001b[0m\u001b[0;34m\u001b[0m\u001b[0m\n\u001b[0;32m---> 22\u001b[0;31m     \u001b[0msess\u001b[0m \u001b[0;34m=\u001b[0m \u001b[0mtf\u001b[0m\u001b[0;34m.\u001b[0m\u001b[0mSession\u001b[0m\u001b[0;34m(\u001b[0m\u001b[0;34m)\u001b[0m\u001b[0;34m\u001b[0m\u001b[0;34m\u001b[0m\u001b[0m\n\u001b[0m\u001b[1;32m     23\u001b[0m     \u001b[0msess\u001b[0m\u001b[0;34m.\u001b[0m\u001b[0mrun\u001b[0m\u001b[0;34m(\u001b[0m\u001b[0mtf\u001b[0m\u001b[0;34m.\u001b[0m\u001b[0mglobal_variables_initializer\u001b[0m\u001b[0;34m(\u001b[0m\u001b[0;34m)\u001b[0m\u001b[0;34m)\u001b[0m\u001b[0;34m\u001b[0m\u001b[0;34m\u001b[0m\u001b[0m\n\u001b[1;32m     24\u001b[0m     \u001b[0msess\u001b[0m\u001b[0;34m.\u001b[0m\u001b[0mrun\u001b[0m\u001b[0;34m(\u001b[0m\u001b[0mtf\u001b[0m\u001b[0;34m.\u001b[0m\u001b[0mlocal_variables_initializer\u001b[0m\u001b[0;34m(\u001b[0m\u001b[0;34m)\u001b[0m\u001b[0;34m)\u001b[0m\u001b[0;34m\u001b[0m\u001b[0;34m\u001b[0m\u001b[0m\n",
      "\u001b[0;32m~/anaconda3/envs/dlc/lib/python3.6/site-packages/tensorflow/python/client/session.py\u001b[0m in \u001b[0;36m__init__\u001b[0;34m(self, target, graph, config)\u001b[0m\n\u001b[1;32m   1492\u001b[0m \u001b[0;34m\u001b[0m\u001b[0m\n\u001b[1;32m   1493\u001b[0m     \"\"\"\n\u001b[0;32m-> 1494\u001b[0;31m     \u001b[0msuper\u001b[0m\u001b[0;34m(\u001b[0m\u001b[0mSession\u001b[0m\u001b[0;34m,\u001b[0m \u001b[0mself\u001b[0m\u001b[0;34m)\u001b[0m\u001b[0;34m.\u001b[0m\u001b[0m__init__\u001b[0m\u001b[0;34m(\u001b[0m\u001b[0mtarget\u001b[0m\u001b[0;34m,\u001b[0m \u001b[0mgraph\u001b[0m\u001b[0;34m,\u001b[0m \u001b[0mconfig\u001b[0m\u001b[0;34m=\u001b[0m\u001b[0mconfig\u001b[0m\u001b[0;34m)\u001b[0m\u001b[0;34m\u001b[0m\u001b[0;34m\u001b[0m\u001b[0m\n\u001b[0m\u001b[1;32m   1495\u001b[0m     \u001b[0;31m# NOTE(mrry): Create these on first `__enter__` to avoid a reference cycle.\u001b[0m\u001b[0;34m\u001b[0m\u001b[0;34m\u001b[0m\u001b[0;34m\u001b[0m\u001b[0m\n\u001b[1;32m   1496\u001b[0m     \u001b[0mself\u001b[0m\u001b[0;34m.\u001b[0m\u001b[0m_default_graph_context_manager\u001b[0m \u001b[0;34m=\u001b[0m \u001b[0;32mNone\u001b[0m\u001b[0;34m\u001b[0m\u001b[0;34m\u001b[0m\u001b[0m\n",
      "\u001b[0;32m~/anaconda3/envs/dlc/lib/python3.6/site-packages/tensorflow/python/client/session.py\u001b[0m in \u001b[0;36m__init__\u001b[0;34m(self, target, graph, config)\u001b[0m\n\u001b[1;32m    624\u001b[0m     \u001b[0;32mtry\u001b[0m\u001b[0;34m:\u001b[0m\u001b[0;34m\u001b[0m\u001b[0;34m\u001b[0m\u001b[0m\n\u001b[1;32m    625\u001b[0m       \u001b[0;31m# pylint: disable=protected-access\u001b[0m\u001b[0;34m\u001b[0m\u001b[0;34m\u001b[0m\u001b[0;34m\u001b[0m\u001b[0m\n\u001b[0;32m--> 626\u001b[0;31m       \u001b[0mself\u001b[0m\u001b[0;34m.\u001b[0m\u001b[0m_session\u001b[0m \u001b[0;34m=\u001b[0m \u001b[0mtf_session\u001b[0m\u001b[0;34m.\u001b[0m\u001b[0mTF_NewSession\u001b[0m\u001b[0;34m(\u001b[0m\u001b[0mself\u001b[0m\u001b[0;34m.\u001b[0m\u001b[0m_graph\u001b[0m\u001b[0;34m.\u001b[0m\u001b[0m_c_graph\u001b[0m\u001b[0;34m,\u001b[0m \u001b[0mopts\u001b[0m\u001b[0;34m)\u001b[0m\u001b[0;34m\u001b[0m\u001b[0;34m\u001b[0m\u001b[0m\n\u001b[0m\u001b[1;32m    627\u001b[0m       \u001b[0;31m# pylint: enable=protected-access\u001b[0m\u001b[0;34m\u001b[0m\u001b[0;34m\u001b[0m\u001b[0;34m\u001b[0m\u001b[0m\n\u001b[1;32m    628\u001b[0m     \u001b[0;32mfinally\u001b[0m\u001b[0;34m:\u001b[0m\u001b[0;34m\u001b[0m\u001b[0;34m\u001b[0m\u001b[0m\n",
      "\u001b[0;31mInternalError\u001b[0m: Failed to create session."
     ]
    }
   ],
   "source": [
    "dlc.evaluate_network(config_path, plotting=True)"
   ]
  }
 ],
 "metadata": {
  "kernelspec": {
   "display_name": "Python 3",
   "language": "python",
   "name": "python3"
  },
  "language_info": {
   "codemirror_mode": {
    "name": "ipython",
    "version": 3
   },
   "file_extension": ".py",
   "mimetype": "text/x-python",
   "name": "python",
   "nbconvert_exporter": "python",
   "pygments_lexer": "ipython3",
   "version": "3.6.8"
  }
 },
 "nbformat": 4,
 "nbformat_minor": 2
}

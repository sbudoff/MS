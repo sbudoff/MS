{
 "cells": [
  {
   "cell_type": "code",
   "execution_count": 1,
   "metadata": {},
   "outputs": [],
   "source": [
    "import pandas as pd\n",
    "import numpy as np\n",
    "from statistics import mean\n",
    "from matplotlib import pyplot as plt\n",
    "from matplotlib.ticker import PercentFormatter as PF\n",
    "font = {'fontname':'Liberation Serif'}"
   ]
  },
  {
   "cell_type": "code",
   "execution_count": 2,
   "metadata": {},
   "outputs": [],
   "source": [
    "# from https://pythonprogramming.net/how-to-program-best-fit-line-machine-learning-tutorial/\n",
    "\n",
    "def best_fit_slope_and_intercept(xs,ys):\n",
    "    m = (((mean(xs)*mean(ys)) - mean(xs*ys)) /\n",
    "         ((mean(xs)*mean(xs)) - mean(xs*xs)))\n",
    "    \n",
    "    b = mean(ys) - m*mean(xs)\n",
    "    \n",
    "    return m, b\n",
    "\n",
    "def squared_error(ys_orig,ys_line):\n",
    "    return sum((ys_line - ys_orig) * (ys_line - ys_orig))\n",
    "\n",
    "def coefficient_of_determination(ys_orig,ys_line):\n",
    "    y_mean_line = [mean(ys_orig) for y in ys_orig]\n",
    "    squared_error_regr = squared_error(ys_orig, ys_line)\n",
    "    squared_error_y_mean = squared_error(ys_orig, y_mean_line)\n",
    "    return 1 - (squared_error_regr/squared_error_y_mean)"
   ]
  },
  {
   "cell_type": "code",
   "execution_count": 3,
   "metadata": {},
   "outputs": [
    {
     "data": {
      "text/html": [
       "<div>\n",
       "<style scoped>\n",
       "    .dataframe tbody tr th:only-of-type {\n",
       "        vertical-align: middle;\n",
       "    }\n",
       "\n",
       "    .dataframe tbody tr th {\n",
       "        vertical-align: top;\n",
       "    }\n",
       "\n",
       "    .dataframe thead th {\n",
       "        text-align: right;\n",
       "    }\n",
       "</style>\n",
       "<table border=\"1\" class=\"dataframe\">\n",
       "  <thead>\n",
       "    <tr style=\"text-align: right;\">\n",
       "      <th></th>\n",
       "      <th>Cell Death</th>\n",
       "      <th>Dose</th>\n",
       "    </tr>\n",
       "  </thead>\n",
       "  <tbody>\n",
       "    <tr>\n",
       "      <th>0</th>\n",
       "      <td>0.687778</td>\n",
       "      <td>0.045333</td>\n",
       "    </tr>\n",
       "    <tr>\n",
       "      <th>1</th>\n",
       "      <td>0.760000</td>\n",
       "      <td>0.045333</td>\n",
       "    </tr>\n",
       "    <tr>\n",
       "      <th>2</th>\n",
       "      <td>0.800000</td>\n",
       "      <td>0.030769</td>\n",
       "    </tr>\n",
       "    <tr>\n",
       "      <th>3</th>\n",
       "      <td>0.700000</td>\n",
       "      <td>0.069565</td>\n",
       "    </tr>\n",
       "    <tr>\n",
       "      <th>4</th>\n",
       "      <td>0.700000</td>\n",
       "      <td>0.034000</td>\n",
       "    </tr>\n",
       "    <tr>\n",
       "      <th>5</th>\n",
       "      <td>0.100000</td>\n",
       "      <td>0.003704</td>\n",
       "    </tr>\n",
       "    <tr>\n",
       "      <th>6</th>\n",
       "      <td>0.250000</td>\n",
       "      <td>0.007407</td>\n",
       "    </tr>\n",
       "    <tr>\n",
       "      <th>7</th>\n",
       "      <td>0.450000</td>\n",
       "      <td>0.014815</td>\n",
       "    </tr>\n",
       "    <tr>\n",
       "      <th>8</th>\n",
       "      <td>0.550000</td>\n",
       "      <td>0.029630</td>\n",
       "    </tr>\n",
       "    <tr>\n",
       "      <th>9</th>\n",
       "      <td>0.900000</td>\n",
       "      <td>0.059259</td>\n",
       "    </tr>\n",
       "    <tr>\n",
       "      <th>10</th>\n",
       "      <td>0.710000</td>\n",
       "      <td>0.045333</td>\n",
       "    </tr>\n",
       "  </tbody>\n",
       "</table>\n",
       "</div>"
      ],
      "text/plain": [
       "    Cell Death      Dose\n",
       "0     0.687778  0.045333\n",
       "1     0.760000  0.045333\n",
       "2     0.800000  0.030769\n",
       "3     0.700000  0.069565\n",
       "4     0.700000  0.034000\n",
       "5     0.100000  0.003704\n",
       "6     0.250000  0.007407\n",
       "7     0.450000  0.014815\n",
       "8     0.550000  0.029630\n",
       "9     0.900000  0.059259\n",
       "10    0.710000  0.045333"
      ]
     },
     "metadata": {},
     "output_type": "display_data"
    },
    {
     "name": "stdout",
     "output_type": "stream",
     "text": [
      "r $^2$ = 0.6948\n"
     ]
    }
   ],
   "source": [
    "data=pd.read_csv('/home/sam/Documents/IIN-ELS/Defesa/6-OHDA_lit.csv')\n",
    "\n",
    "display(data)\n",
    "\n",
    "m, b = best_fit_slope_and_intercept(data['Dose'],data['Cell Death'])\n",
    "\n",
    "regression_line = [(m*x)+b for x in [-.1,.01,.02,.04,.08,.09]]\n",
    "\n",
    "reg_line = [(m*x)+b for x in data['Dose']]\n",
    "\n",
    "r_squared = round(coefficient_of_determination(data['Cell Death'],reg_line),4)\n",
    "\n",
    "\n",
    "rsq='r $^2$ = '+str(r_squared)\n",
    "\n",
    "print(rsq)"
   ]
  },
  {
   "cell_type": "code",
   "execution_count": 4,
   "metadata": {},
   "outputs": [
    {
     "data": {
      "image/png": "[encoded data removed]",
      "text/plain": [
       "<Figure size 432x288 with 1 Axes>"
      ]
     },
     "metadata": {
      "needs_background": "light"
     },
     "output_type": "display_data"
    }
   ],
   "source": [
    "# This cell plots the COM per time\n",
    "\n",
    "fig = plt.figure()\n",
    "ax = fig.add_subplot(111)\n",
    "ax.set_xlabel(\"6-OHDA Dose per Animal (µg/g)\", size=14,**font)\n",
    "\n",
    "col=['b','y']\n",
    "\n",
    "\n",
    "#plots the trend line\n",
    "plt.plot([-.1,.01,.02,.04,.08,.09], regression_line, color='k',linestyle='--', label=rsq)    \n",
    "\n",
    "#plots the data points\n",
    "ax.scatter(data['Dose'],data['Cell Death'])\n",
    "\n",
    "\n",
    "#Y-axis parameters\n",
    "ax.set_ylabel('Reported Cell Death in the SN$_{pc}$ (TH IHC)',size=14, **font)\n",
    "plt.ylim(0,1)\n",
    "plt.xlim(0,.08)\n",
    "ax.yaxis.set_major_formatter(PF(xmax=1))\n",
    "\n",
    "#Title and legend parameters\n",
    "ax.set_title((\"Total Dose per Animal vs SN$_{pc}$ Cell Death\"), size=18,**font)\n",
    "handles, labels = ax.get_legend_handles_labels()\n",
    "ax.legend(handles[::-1], labels[::-1])\n",
    "\n",
    "# Hide the right and top spines\n",
    "ax.spines['right'].set_visible(False)\n",
    "ax.spines['top'].set_visible(False)\n",
    "plt.legend(frameon=False).set_visible(False)\n",
    "ax.annotate(rsq, xy=(100, 200), xycoords='axes points',\n",
    "            size=14, ha='right', va='top',**font)\n",
    "\n",
    "display()\n",
    "\n",
    "file_path1='/home/sam/Documents/IIN-ELS/Defesa/Fig1_6-OHDA_lit.png'\n",
    "\n",
    "plt.savefig(file_path1, dpi=300, transparent=True)"
   ]
  }
 ],
 "metadata": {
  "kernelspec": {
   "display_name": "Python 3",
   "language": "python",
   "name": "python3"
  },
  "language_info": {
   "codemirror_mode": {
    "name": "ipython",
    "version": 3
   },
   "file_extension": ".py",
   "mimetype": "text/x-python",
   "name": "python",
   "nbconvert_exporter": "python",
   "pygments_lexer": "ipython3",
   "version": "3.7.3"
  }
 },
 "nbformat": 4,
 "nbformat_minor": 2
}

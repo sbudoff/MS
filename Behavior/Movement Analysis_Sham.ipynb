{
 "cells": [
  {
   "cell_type": "markdown",
   "metadata": {},
   "source": [
    "# Movement Analysis\n",
    "This journal will calculate and plot the movement of rats in the open field"
   ]
  },
  {
   "cell_type": "code",
   "execution_count": 1,
   "metadata": {},
   "outputs": [],
   "source": [
    "# This cell will import libraries\n",
    "import numpy as np\n",
    "import pandas as pd\n",
    "from matplotlib import pyplot as plt\n",
    "from os import listdir\n",
    "from IPython.display import display\n",
    "import scipy.integrate"
   ]
  },
  {
   "cell_type": "code",
   "execution_count": 2,
   "metadata": {},
   "outputs": [
    {
     "name": "stdout",
     "output_type": "stream",
     "text": [
      "Enter either Sham or PD: Sham\n"
     ]
    }
   ],
   "source": [
    "%%capture\n",
    "from tqdm import tqdm_notebook as pbar\n",
    "pbar().pandas()\n",
    "\n",
    "# This is a housekeeping cell that initializes the progress bar\n",
    "# This cell also prompts the user to define what condition is being analyzed\n",
    "\n",
    "font = {'fontname':'Liberation Serif'}\n",
    "\n",
    "Experiment=input(\"Enter either Sham or PD: \")\n",
    "\n",
    "CON='/Output/'+Experiment"
   ]
  },
  {
   "cell_type": "code",
   "execution_count": 3,
   "metadata": {},
   "outputs": [
    {
     "name": "stdout",
     "output_type": "stream",
     "text": [
      "This directory contains 6 files which have been loaded\n"
     ]
    },
    {
     "data": {
      "application/vnd.jupyter.widget-view+json": {
       "model_id": "7bca65cfb1e64d5799fd13fb6a05fa69",
       "version_major": 2,
       "version_minor": 0
      },
      "text/plain": [
       "HBox(children=(IntProgress(value=0, max=6), HTML(value='')))"
      ]
     },
     "metadata": {},
     "output_type": "display_data"
    },
    {
     "name": "stdout",
     "output_type": "stream",
     "text": [
      "\n",
      "The experiments dataframe has 288080 rows\n"
     ]
    }
   ],
   "source": [
    "# This cell will import data files as dataframes\n",
    "\n",
    "# File path to be used while importing and merging\n",
    "data_path='/home/sam/Science/microdialysis/MSDissertation/Behavior/DLC_CSVs/'+Experiment+'/'\n",
    "\n",
    "# Code for finding names of all CSVs in the specified folder \n",
    "def find_csv_filenames( path_to_dir, suffix=\".csv\" ):\n",
    "    filenames = listdir(path_to_dir)\n",
    "    return [ filename for filename in filenames if filename.endswith( suffix ) ]\n",
    "\n",
    "file_names = find_csv_filenames(data_path)\n",
    "print(\"This directory contains\",str((len(file_names))),\"files which have been loaded\")\n",
    "\n",
    "# This function will sequentially (i) read each CSV, (ii) give it an experiment ID, and (iii) merge it with the other CSVs\n",
    "def loader(data_path):\n",
    "    experiments = pd.DataFrame()\n",
    "    IndexNS=int(0)\n",
    "    IndexS=int(0)\n",
    "    for name in pbar(file_names):\n",
    "        file_path=data_path+name      \n",
    "        \n",
    "#         Opens given file in temporary dataframe\n",
    "#            NOTE THIS IS CONFIGURED SUCH THAT THE HEADER IS LINES 1 AND 2\n",
    "        store = pd.read_csv(file_path, header=[1,2])\n",
    "\n",
    "\n",
    "#         Adds CSV ID to avoid confusion\n",
    "        for ii in range(len(store)):\n",
    "            store.loc[ii, \"CSV\"] = name\n",
    "\n",
    "#           Adds condition of SCS\n",
    "            if ('unstim' in name):\n",
    "                store.loc[ii,\"Condition\"]=\"Not Stimulated\"\n",
    "                store.loc[ii,\"Index\"]=IndexNS\n",
    "                IndexNS=IndexNS+1\n",
    "            elif ('post-stim' in name):\n",
    "                store.loc[ii,\"Condition\"]=\"Post Stimulation\"\n",
    "                store.loc[ii,\"Index\"]=IndexNS\n",
    "            else:\n",
    "                store.loc[ii,\"Condition\"]=\"Stimulated\"\n",
    "                store.loc[ii,\"Index\"]=IndexS\n",
    "                IndexS=IndexS+1\n",
    "\n",
    "\n",
    "#         Appends CSV\n",
    "        experiments = experiments.append(store)\n",
    "\n",
    "    return(experiments)\n",
    "\n",
    "experiments=loader(data_path)\n",
    "\n",
    "print(\"The experiments dataframe has\",str((len(experiments))),\"rows\")"
   ]
  },
  {
   "cell_type": "markdown",
   "metadata": {},
   "source": [
    "## Calculations\n",
    "In this experiment, it is desired to identify the position of individual animals during thir respective runs, the average velocity for animals with or without stimulation, and the average head to tail distance of animals from different conditions; the latter two measurements are proxies for the human symptoms of bradykinesia and hunching, respectively.\n",
    "\n",
    "To ascertain these values,the data sets are first parsed based on stimulation condition. The difference between consecutive frames is then found for each measurment of each animal, as is the average $X$ and $Y$ position for all six tracked body parts. The average position is converted from pixel values into cm (in this open field set up 20.2 pixels are measured for every centimeter). The reason for averaging all body parts is to provide a prediction for the animal's center of mass, which in effect should filter the jitters that are observed during tracking.\n",
    "\n",
    "Finally, hunching ($D$) is calculated based on the pythaorean theorem: $$D=\\sqrt{(X_{Nose}-X_{Tail Base})^{2}+(Y_{Nose}-Y_{Tail Base})^{2}}$$\n",
    "One limitiation to be aware of, is that the tracking is unable to differentiate when the animals head is at a different altitude. Thus a false positive for hunching can be expected for rearing behaviors, when the head is actually at the fartherest real distance from the tail base, but to the tracking software appears to be closer to the tail base.\n",
    "\n",
    "For statistical analysis, the standard deviation of all delta values is found. When creating compound values, such as the COM, it is assummed that $X_{1}$ and $X_{2}$ are indepedent, as are $Y_{1}$ and $Y_{2}$. As a result the variance between their difference is given by $$Var[X_{2} - X_{1}] = Var[X_{2}] + Var[X_{1}]$$ and $$Var[Y_{2} - Y_{1}] = Var[Y_{2}] + Var[Y_{1}]$$ Following this calculation for the differences of the new delta values are assumed to be independent, inspite of the fact that $X_{1}$ and $Y_{1}$ and $X_{2}$ and $Y_{2}$ are dependent. Therefore the equation used to compute the composite standard deviations is: $$Std[dX, dY] = \\sqrt{Std[X_{2}]^{2} + Std[X_{1}]^{2} + Std[Y_{2}]^{2} + Std[Y_{1}]^{2}}$$"
   ]
  },
  {
   "cell_type": "code",
   "execution_count": 4,
   "metadata": {},
   "outputs": [
    {
     "data": {
      "application/vnd.jupyter.widget-view+json": {
       "model_id": "481555e5fa5b425db35aecb06aefd582",
       "version_major": 2,
       "version_minor": 0
      },
      "text/plain": [
       "HBox(children=(IntProgress(value=0, max=136877), HTML(value='')))"
      ]
     },
     "metadata": {},
     "output_type": "display_data"
    },
    {
     "name": "stdout",
     "output_type": "stream",
     "text": [
      "Assessing next file\n",
      "Assessing next file\n",
      "\n",
      "Separation of unstimulation experiments, and calculation of deltas complete\n"
     ]
    },
    {
     "data": {
      "application/vnd.jupyter.widget-view+json": {
       "model_id": "4657a4b40d894168a0c09945e238ffa0",
       "version_major": 2,
       "version_minor": 0
      },
      "text/plain": [
       "HBox(children=(IntProgress(value=0, max=151201), HTML(value='')))"
      ]
     },
     "metadata": {},
     "output_type": "display_data"
    },
    {
     "name": "stdout",
     "output_type": "stream",
     "text": [
      "Assessing next file\n",
      "Assessing next file\n",
      "\n",
      "Separation of stimulation experiments, and calculation of deltas complete\n"
     ]
    },
    {
     "data": {
      "application/vnd.jupyter.widget-view+json": {
       "model_id": "7efd9b0959fc471f9dc6db3317314ef9",
       "version_major": 2,
       "version_minor": 0
      },
      "text/plain": [
       "HBox(children=(IntProgress(value=1, bar_style='info', max=1), HTML(value='')))"
      ]
     },
     "metadata": {},
     "output_type": "display_data"
    },
    {
     "name": "stdout",
     "output_type": "stream",
     "text": [
      "\n",
      "Separation of post-stimulation experiments, and calculation of deltas complete\n"
     ]
    }
   ],
   "source": [
    "#This cell will compute and store the change in position for each body part per frame, \n",
    "    #the change in the center of mass (COM) for the animal for each frame\n",
    "        #and the distance betwen the head and tailbase (Hunch) in each frame\n",
    "\n",
    "def Delter(df):\n",
    "    \n",
    "    delta=pd.DataFrame()\n",
    "    frame=0\n",
    "    time=0\n",
    "\n",
    "#     reset column index for following loop   \n",
    "    df=df.reset_index()\n",
    "\n",
    "    for index in pbar(range(len(df)-1)):\n",
    "        \n",
    "#         This control statement will partition experiments\n",
    "        if (df.loc[(index+1),\"CSV\"][0])==(df.loc[index,\"CSV\"][0]):\n",
    "#             Calculation of delta for each value\n",
    "            delta.loc[index,\"Nose X\"]=df.loc[index+1,\"Nose\"][\"x\"]-df.loc[index,\"Nose\"][\"x\"]\n",
    "            delta.loc[index,\"Nose Y\"]=df.loc[index+1,\"Nose\"][\"y\"]-df.loc[index,\"Nose\"][\"y\"]\n",
    "            delta.loc[index,\"RFPaw X\"]=df.loc[index+1,\"RFPaw\"][\"x\"]-df.loc[index,\"RFPaw\"][\"x\"]\n",
    "            delta.loc[index,\"RFPaw Y\"]=df.loc[index+1,\"RFPaw\"][\"y\"]-df.loc[index,\"RFPaw\"][\"y\"]\n",
    "            delta.loc[index,\"LFPaw X\"]=df.loc[index+1,\"LFPaw\"][\"x\"]-df.loc[index,\"LFPaw\"][\"x\"]\n",
    "            delta.loc[index,\"LFPaw Y\"]=df.loc[index+1,\"LFPaw\"][\"y\"]-df.loc[index,\"LFPaw\"][\"y\"]\n",
    "            delta.loc[index,\"RHPaw X\"]=df.loc[index+1,\"RHPaw\"][\"x\"]-df.loc[index,\"RHPaw\"][\"x\"]\n",
    "            delta.loc[index,\"RHPaw Y\"]=df.loc[index+1,\"RHPaw\"][\"y\"]-df.loc[index,\"RHPaw\"][\"y\"]\n",
    "            delta.loc[index,\"LHPaw X\"]=df.loc[index+1,\"LHPaw\"][\"x\"]-df.loc[index,\"LHPaw\"][\"x\"]\n",
    "            delta.loc[index,\"LHPaw Y\"]=df.loc[index+1,\"LHPaw\"][\"y\"]-df.loc[index,\"LHPaw\"][\"y\"]\n",
    "            delta.loc[index,\"TailBase X\"]=df.loc[index+1,\"TailBase\"][\"x\"]-df.loc[index,\"TailBase\"][\"x\"]\n",
    "            delta.loc[index,\"TailBase Y\"]=df.loc[index+1,\"TailBase\"][\"y\"]-df.loc[index,\"TailBase\"][\"y\"]\n",
    "            \n",
    "#             Calculation of center of mass, ignoring NaN\n",
    "            \n",
    "            delta.loc[index,\"COM X\"]=np.nanmean([delta.loc[index,\"Nose X\"],\n",
    "                                                delta.loc[index,\"RFPaw X\"],\n",
    "                                                delta.loc[index,\"LFPaw X\"],\n",
    "                                                delta.loc[index,\"RHPaw X\"],\n",
    "                                                delta.loc[index,\"LHPaw X\"],\n",
    "                                                delta.loc[index,\"TailBase X\"]])\n",
    "                                                \n",
    "            delta.loc[index,\"COM Y\"]=np.nanmean([delta.loc[index,\"Nose Y\"],\n",
    "                                                delta.loc[index,\"RFPaw Y\"],\n",
    "                                                delta.loc[index,\"LFPaw Y\"],\n",
    "                                                delta.loc[index,\"RHPaw Y\"],\n",
    "                                                delta.loc[index,\"LHPaw Y\"],\n",
    "                                                delta.loc[index,\"TailBase Y\"]])\n",
    "    \n",
    "#             Calculation of hunch\n",
    "\n",
    "            delta.loc[index,\"Hunch\"] = np.sqrt((df.loc[index,\"Nose\"][\"x\"]-df.loc[index,\"TailBase\"][\"x\"])**2 + (df.loc[index,\"Nose\"][\"y\"]-df.loc[index,\"TailBase\"][\"y\"])**2) \n",
    "    \n",
    "\n",
    "#             Storage of frame number\n",
    "            delta.loc[index,\"Frame\"]=frame\n",
    "            frame=frame+1\n",
    "            delta.loc[index,\"Time (min)\"]=time\n",
    "            time=time+0.00055555555\n",
    "\n",
    "        else:\n",
    "            print(\"Assessing next file\")\n",
    "            frame=0\n",
    "            time=0\n",
    "       \n",
    "        delta.reset_index()\n",
    "\n",
    "    return(delta)    \n",
    "\n",
    "\n",
    "data_path='/home/sam/Science/microdialysis/MSDissertation/Behavior/DLC_CSVs/'\n",
    "file_path1=data_path+CON+'_Unstim_delta.csv'\n",
    "file_path2=data_path+CON+'_Stim_delta.csv'\n",
    "file_path3=data_path+CON+'_Post-Stim_delta.csv'\n",
    "\n",
    "NStim_delta=Delter(experiments.loc[(experiments.loc[:,\"Condition\"]=='Not Stimulated'),:])\n",
    "\n",
    "NStim_delta.to_csv(file_path1)\n",
    "\n",
    "print(\"Separation of unstimulation experiments, and calculation of deltas complete\")\n",
    "\n",
    "Stim_delta=Delter(experiments.loc[(experiments.loc[:,\"Condition\"]=='Stimulated'),:])\n",
    "\n",
    "Stim_delta.to_csv(file_path2)\n",
    "\n",
    "print(\"Separation of stimulation experiments, and calculation of deltas complete\")\n",
    "\n",
    "Post_delta=Delter(experiments.loc[(experiments.loc[:,\"Condition\"]=='Post Stimulation'),:])\n",
    "\n",
    "Post_delta.to_csv(file_path3)\n",
    "\n",
    "print(\"Separation of post-stimulation experiments, and calculation of deltas complete\")\n"
   ]
  },
  {
   "cell_type": "code",
   "execution_count": 5,
   "metadata": {},
   "outputs": [],
   "source": [
    "print# This filter takes an inpt dataframe and averages every N frames\n",
    "#   By averaging 3 frames for instance, this function can remove erroroneous jitters sometimes observed durin the tracking\n",
    "#   By averaging 30 frames alternatively, the relevant dataframe is converted from a per frame measuremnt to a per second measurement\n",
    "def filtN(df, Name, N):\n",
    "    ii=0\n",
    "    jj=0\n",
    "    kk=0\n",
    "    temp=0\n",
    "    time=0\n",
    "    store=pd.DataFrame()\n",
    "    while ii <= (len(df)-N):\n",
    "        while jj <(N+1):\n",
    "            temp=temp+df[ii]\n",
    "            ii+=1\n",
    "            jj+=1\n",
    "        time=time+(0.0005555555*N)\n",
    "        store.loc[kk,Name]=(temp/N)\n",
    "        store.loc[kk,\"Time (min)\"]=time\n",
    "        jj=0\n",
    "        temp=0\n",
    "        kk+=1\n",
    "    return(store)\n",
    "\n",
    "\n",
    "# This version is for std, it works by finding the square root of the sum of the variances, which are the squares of the std\n",
    "def filtN_std(df, Name, N):\n",
    "    ii=0\n",
    "    jj=0\n",
    "    kk=0\n",
    "    temp=0\n",
    "    time=0\n",
    "    store=pd.DataFrame()\n",
    "    while ii <= (len(df)-N):\n",
    "        while jj <(N+1):\n",
    "            temp=temp+df[ii]**2\n",
    "            ii+=1\n",
    "            jj+=1\n",
    "        time=time+(0.0005555555*N)\n",
    "        store.loc[kk,Name]=(np.sqrt(temp)/N)\n",
    "        store.loc[kk,\"Time (min)\"]=time\n",
    "        jj=0\n",
    "        temp=0\n",
    "        kk+=1\n",
    "    return(store)"
   ]
  },
  {
   "cell_type": "code",
   "execution_count": 6,
   "metadata": {},
   "outputs": [
    {
     "data": {
      "application/vnd.jupyter.widget-view+json": {
       "model_id": "37ad9d7004314f62825e370f1f6f245c",
       "version_major": 2,
       "version_minor": 0
      },
      "text/plain": [
       "HBox(children=(IntProgress(value=0, max=54405), HTML(value='')))"
      ]
     },
     "metadata": {},
     "output_type": "display_data"
    },
    {
     "name": "stdout",
     "output_type": "stream",
     "text": [
      "\n",
      "Unstimulated runs averaged with 54405 frames\n"
     ]
    },
    {
     "data": {
      "application/vnd.jupyter.widget-view+json": {
       "model_id": "56def5d2f2624824bf9d023d5a986b21",
       "version_major": 2,
       "version_minor": 0
      },
      "text/plain": [
       "HBox(children=(IntProgress(value=0, max=54085), HTML(value='')))"
      ]
     },
     "metadata": {},
     "output_type": "display_data"
    },
    {
     "name": "stdout",
     "output_type": "stream",
     "text": [
      "\n",
      "Stimulated runs averaged 54085 frames\n"
     ]
    }
   ],
   "source": [
    "# This cell calculates the average value for all higher order values\n",
    "\n",
    "def Avrger(delta):\n",
    "    store=pd.DataFrame()\n",
    "    \n",
    "    delta=delta.reset_index()\n",
    "#     The Frame number will be used as the index so as to align different experiments\n",
    "    delta.set_index(\"Frame\")\n",
    "    \n",
    "#This loop will calculate and store the average value for the higher order values from the experiments based on identical frame IDs\n",
    "# The loop is using the last identified frame as the index, as this input DF contains multiple videos of roughly equal legnth\n",
    "    for index in pbar(range(int(max(delta[\"Frame\"])))):\n",
    "        store.loc[index,\"Nose X\"]=np.nanmean(delta[\"Nose X\"][delta[\"Frame\"]==index])\n",
    "        store.loc[index,\"Nose Y\"]=np.nanmean(delta[\"Nose Y\"][delta[\"Frame\"]==index])\n",
    "        store.loc[index,\"RFPaw X\"]=np.nanmean(delta[\"RFPaw X\"][delta[\"Frame\"]==index])\n",
    "        store.loc[index,\"RFPaw Y\"]=np.nanmean(delta[\"RFPaw Y\"][delta[\"Frame\"]==index])\n",
    "        store.loc[index,\"LFPaw X\"]=np.nanmean(delta[\"LFPaw X\"][delta[\"Frame\"]==index])\n",
    "        store.loc[index,\"LFPaw Y\"]=np.nanmean(delta[\"LFPaw Y\"][delta[\"Frame\"]==index])\n",
    "        store.loc[index,\"RHPaw X\"]=np.nanmean(delta[\"RHPaw X\"][delta[\"Frame\"]==index])\n",
    "        store.loc[index,\"RHPaw Y\"]=np.nanmean(delta[\"RHPaw Y\"][delta[\"Frame\"]==index])\n",
    "        store.loc[index,\"LHPaw X\"]=np.nanmean(delta[\"LHPaw X\"][delta[\"Frame\"]==index])\n",
    "        store.loc[index,\"LHPaw Y\"]=np.nanmean(delta[\"LHPaw Y\"][delta[\"Frame\"]==index])\n",
    "        store.loc[index,\"TailBase X\"]=np.nanmean(delta[\"TailBase X\"][delta[\"Frame\"]==index])\n",
    "        store.loc[index,\"TailBase Y\"]=np.nanmean(delta[\"TailBase Y\"][delta[\"Frame\"]==index])\n",
    "        store.loc[index,\"COM X\"]=np.nanmean(delta[\"COM X\"][delta[\"Frame\"]==index])\n",
    "        store.loc[index,\"COM Y\"]=np.nanmean(delta[\"COM Y\"][delta[\"Frame\"]==index])\n",
    "        store.loc[index,\"Hunch\"]=np.nanmean(delta[\"Hunch\"][delta[\"Frame\"]==index])\n",
    "        \n",
    "        store.loc[index,\"Nose X std\"]=np.std(delta[\"Nose X\"][delta[\"Frame\"]==index])\n",
    "        store.loc[index,\"Nose Y std\"]=np.std(delta[\"Nose Y\"][delta[\"Frame\"]==index])\n",
    "        store.loc[index,\"RFPaw X std\"]=np.std(delta[\"RFPaw X\"][delta[\"Frame\"]==index])\n",
    "        store.loc[index,\"RFPaw Y std\"]=np.std(delta[\"RFPaw Y\"][delta[\"Frame\"]==index])\n",
    "        store.loc[index,\"LFPaw X std\"]=np.std(delta[\"LFPaw X\"][delta[\"Frame\"]==index])\n",
    "        store.loc[index,\"LFPaw Y std\"]=np.std(delta[\"LFPaw Y\"][delta[\"Frame\"]==index])\n",
    "        store.loc[index,\"RHPaw X std\"]=np.std(delta[\"RHPaw X\"][delta[\"Frame\"]==index])\n",
    "        store.loc[index,\"RHPaw Y std\"]=np.std(delta[\"RHPaw Y\"][delta[\"Frame\"]==index])\n",
    "        store.loc[index,\"LHPaw X std\"]=np.std(delta[\"LHPaw X\"][delta[\"Frame\"]==index])\n",
    "        store.loc[index,\"LHPaw Y std\"]=np.std(delta[\"LHPaw Y\"][delta[\"Frame\"]==index])\n",
    "        store.loc[index,\"TailBase X std\"]=np.std(delta[\"TailBase X\"][delta[\"Frame\"]==index])\n",
    "        store.loc[index,\"TailBase Y std\"]=np.std(delta[\"TailBase Y\"][delta[\"Frame\"]==index])\n",
    "        store.loc[index,\"COM X std\"]=np.std(delta[\"COM X\"][delta[\"Frame\"]==index])\n",
    "        store.loc[index,\"COM Y std\"]=np.std(delta[\"COM Y\"][delta[\"Frame\"]==index])\n",
    "        store.loc[index,\"Hunch std\"]=np.std(delta[\"Hunch\"][delta[\"Frame\"]==index])\n",
    "        \n",
    "        \n",
    "        store.loc[index,\"Frame\"]=(delta.loc[index,\"Frame\"]*20.2)\n",
    "        store.loc[index,\"Time (min)\"]=(delta.loc[index,\"Time (min)\"]*20.2)\n",
    "        \n",
    "#     Convert pixel value into cm \n",
    "    store=store/20.2\n",
    "\n",
    "    return(store)\n",
    "\n",
    "\n",
    "file_path1=data_path+CON+'/Unstim_Av.csv'\n",
    "file_path2=data_path+CON+'/Stim_Av.csv'\n",
    "file_path3=data_path+CON+'_Post-Stim_Av.csv'\n",
    "\n",
    "NStim_Av=Avrger(NStim_delta)\n",
    "\n",
    "NStim_Av.to_csv(file_path1)\n",
    "\n",
    "print(\"Unstimulated runs averaged with\",len(NStim_Av), \"frames\")\n",
    "\n",
    "Stim_Av=Avrger(Stim_delta)\n",
    "\n",
    "Stim_Av.to_csv(file_path2)\n",
    "\n",
    "print(\"Stimulated runs averaged\",len(Stim_Av), \"frames\")\n",
    "\n",
    "if len(experiments.loc[(experiments.loc[:,\"Condition\"]=='Post Stimulation'),:]) >0:\n",
    "    Post_Av=Avrger(Post_delta)\n",
    "\n",
    "    Post_Av.to_csv(file_path3)\n",
    "\n",
    "    print(\"Post-stimulated runs averaged\",len(Post_Av), \"frames\")"
   ]
  },
  {
   "cell_type": "markdown",
   "metadata": {},
   "source": [
    "## Plotting\n",
    "The extracted values are now plotted in this section"
   ]
  },
  {
   "cell_type": "code",
   "execution_count": 7,
   "metadata": {
    "scrolled": true
   },
   "outputs": [
    {
     "data": {
      "application/vnd.jupyter.widget-view+json": {
       "model_id": "331405ee42b7499983f3cf47104c9f9d",
       "version_major": 2,
       "version_minor": 0
      },
      "text/plain": [
       "HBox(children=(IntProgress(value=0, max=54084), HTML(value='')))"
      ]
     },
     "metadata": {},
     "output_type": "display_data"
    },
    {
     "name": "stdout",
     "output_type": "stream",
     "text": [
      "\n"
     ]
    },
    {
     "data": {
      "application/vnd.jupyter.widget-view+json": {
       "model_id": "b502e0c0d4834a3fa1f1b80dcb606c64",
       "version_major": 2,
       "version_minor": 0
      },
      "text/plain": [
       "HBox(children=(IntProgress(value=0, max=54404), HTML(value='')))"
      ]
     },
     "metadata": {},
     "output_type": "display_data"
    },
    {
     "name": "stdout",
     "output_type": "stream",
     "text": [
      "\n"
     ]
    },
    {
     "data": {
      "image/png": "[encoded data removed]",
      "text/plain": [
       "<Figure size 432x288 with 1 Axes>"
      ]
     },
     "metadata": {
      "needs_background": "light"
     },
     "output_type": "display_data"
    }
   ],
   "source": [
    "#This cell first calculates and then plots the center of mass at each frame\n",
    "\n",
    "def COMer(delta):\n",
    "    \n",
    "    COM=pd.DataFrame()\n",
    "       \n",
    "    for index in pbar(range(len(delta)-1)):\n",
    "\n",
    "        COM.loc[index,\"COM\"] = np.sqrt((delta.loc[index+1,\"COM X\"]-delta.loc[index,\"COM X\"])**2 + (delta.loc[index+1,\"COM Y\"]-delta.loc[index,\"COM Y\"])**2)    \n",
    "        \n",
    "        COM.loc[index,\"COM std\"] = np.sqrt((delta.loc[index+1,\"COM X std\"]**2+delta.loc[index,\"COM X std\"]**2+delta.loc[index+1,\"COM Y std\"]**2+delta.loc[index,\"COM Y std\"]**2))\n",
    "        \n",
    "    return(COM)\n",
    "\n",
    "COMs=COMer(Stim_Av)\n",
    "\n",
    "COMn=COMer(NStim_Av)\n",
    "\n",
    "# This filter will average every 60*30=1800 frames to remove outliers and express the data in average per minute\n",
    "x=filtN(COMs['COM'],\"Stimulated\",1800)\n",
    "y=filtN(COMn['COM'],\"Unstimulated\",1800)\n",
    "a=filtN_std(COMs['COM std'],\"Stimulated std\",1800)\n",
    "b=filtN_std(COMn['COM std'],\"Unstimulated std\",1800)\n",
    "\n",
    "\n",
    "# The separate stimulated and unstimulated series are merged for easy plotting\n",
    "COM=x.merge(y)\n",
    "COM=COM.merge(a)\n",
    "COM=COM.merge(b)\n",
    "\n",
    "# Plotting\n",
    "fig = plt.figure()\n",
    "ax = fig.add_subplot(111)\n",
    "\n",
    "\n",
    "# If post-stimulation runs are present\n",
    "if len(experiments.loc[(experiments.loc[:,\"Condition\"]=='Post Stimulation'),:]) >0:\n",
    "    COMp=COMer(Post_Av)\n",
    "    z=filtN(COMp['COM'],\"Post-stimulated\",3)\n",
    "    z=filtN(z['Post-stimulated'],\"Post-stimulated\",20)\n",
    "    c=filtN_std(COMn['COM std'],\"Post-stimulated std\",1800)\n",
    "    COM=COM.merge(z)\n",
    "    COM=COM.merge(c)\n",
    "    plt.plot(COM[\"Post-stimulated\"], label=\"Post-Stimulated\", color ='g')\n",
    "    \n",
    "#X-axis parameters\n",
    "\n",
    "ax.set_xlabel(\"Time (min)\", **font)\n",
    "\n",
    "#ax.errorbar(COM[\"Time (min)\"],COM[\"Stimulated\"], yerr=COM[\"Stimulated std\"], label=\"Stimulated\", lw=2, capsize=3, capthick=2, color='k')\n",
    "ax.plot(COM[\"Time (min)\"],COM[\"Stimulated\"],label=\"Unstimulated\",color='y')\n",
    "ax.fill_between(COM[\"Time (min)\"],COM[\"Stimulated\"] - COM[\"Stimulated std\"], COM[\"Stimulated\"] + COM[\"Stimulated std\"],\n",
    "                 color='gray', alpha=0.2)\n",
    "\n",
    "\n",
    "#ax.errorbar(COM[\"Time (min)\"],COM[\"Unstimulated\"], yerr=COM[\"Unstimulated std\"], label=\"Unstimulated\", lw=2, capsize=3, capthick=2, color='k')\n",
    "ax.plot(COM[\"Time (min)\"],COM[\"Unstimulated\"],label=\"Unstimulated\",color='b')\n",
    "ax.fill_between(COM[\"Time (min)\"],COM[\"Unstimulated\"] - COM[\"Unstimulated std\"], COM[\"Unstimulated\"] + COM[\"Unstimulated std\"],\n",
    "                 color='gray', alpha=0.2)\n",
    "\n",
    "\n",
    "\n",
    "#Y-axis parameters\n",
    "ax.set_ylabel('Movement of the COM (cm)', **font)\n",
    "\n",
    "#Title and legend parameters\n",
    "ax.set_title((\"Average Movement of \"+CON[8::]+ \" animals in the Open Field\"), **font)\n",
    "handles, labels = ax.get_legend_handles_labels()\n",
    "ax.legend(handles[::-1], labels[::-1])\n",
    "\n",
    "# Hide the right and top spines\n",
    "ax.spines['right'].set_visible(False)\n",
    "ax.spines['top'].set_visible(False)\n",
    "plt.legend(frameon=False)\n",
    "\n",
    "display()\n",
    "\n",
    "file_path1=data_path+CON+'/COM.csv'\n",
    "file_path2=data_path+CON+'/COM.png'\n",
    "\n",
    "COM.to_csv(file_path1)\n",
    "\n",
    "plt.savefig(file_path2, dpi=300, transparent=True)"
   ]
  },
  {
   "cell_type": "code",
   "execution_count": 8,
   "metadata": {},
   "outputs": [
    {
     "data": {
      "image/png": "[encoded data removed]",
      "text/plain": [
       "<Figure size 432x288 with 1 Axes>"
      ]
     },
     "metadata": {
      "needs_background": "light"
     },
     "output_type": "display_data"
    }
   ],
   "source": [
    "#This cell plots the Nose to tail distance at each frame\n",
    "\n",
    "#This filter will remove any measurements over 25 cm, as they are impossible and DLC was clearly tracking something erroneously for longer than one second\n",
    "def stretchfilt(df, cat):\n",
    "    for ii in range(len(df)):\n",
    "        if df[cat][ii]>25:\n",
    "            df.loc[ii,cat]=25\n",
    "    return(df)\n",
    "\n",
    "# This filter will average every 3 frames to remove single frame outliers\n",
    "#    In effect the frame rate has now dropped from 30 fps to 10 fps\n",
    "x=filtN(Stim_Av['Hunch'],\"Stimulated\",1800)\n",
    "\n",
    "x=stretchfilt(x, 'Stimulated')\n",
    "\n",
    "y=filtN(NStim_Av['Hunch'],\"Unstimulated\",1800)\n",
    "\n",
    "y=stretchfilt(y, 'Unstimulated')\n",
    "\n",
    "a=filtN_std(Stim_Av['Hunch std'],\"Stimulated std\",1800)\n",
    "b=filtN_std(NStim_Av['Hunch std'],\"Unstimulated std\",1800)\n",
    "\n",
    "# This filter will down sample from 10 fps to 1 fps, such that differences are now on a persecond basis\n",
    "#x=filtN(x[\"Stimulated\"],\"Stimulated\",20)\n",
    "#y=filtN(y[\"Unstimulated\"],\"Unstimulated\",20)\n",
    "\n",
    "\n",
    "# The separate stimulated and unstimulated series are merged for easy plotting\n",
    "Hunch=x.merge(y)\n",
    "Hunch=Hunch.merge(a)\n",
    "Hunch=Hunch.merge(b)\n",
    "\n",
    "\n",
    "fig = plt.figure()\n",
    "ax = fig.add_subplot(111)  \n",
    "\n",
    "# If post-stimulation runs are present\n",
    "if len(experiments.loc[(experiments.loc[:,\"Condition\"]=='Post Stimulation'),:]) >0:\n",
    "    z=filtN(Post_Av['Hunch'],\"Post-stimulated\",3)\n",
    "    z=filtN(z['Post-stimulated'],\"Post-stimulated\",20)\n",
    "    z=stretchfilt(z,\"Post-stimulated\")\n",
    "    c=filtN_std(Post_Av['Hunch std'],\"Post-stimulated std\",1800)\n",
    "    Hunch=Hunch.merge(z)\n",
    "    Hunch=Hunch.merge(c)\n",
    "    plt.plot(Hunch[\"Post-stimulated\"], label=\"Post-Stimulated\", color ='g')\n",
    "    ax.fill_between(Hunch[\"Time (min)\"],Hunch[\"Post-Stimulated\"] - Hunch[\"Post-Stimulated std\"], Hunch[\"Post-Stimulated\"] + Hunch[\"Post-Stimulated std\"],\n",
    "                 color='gray', alpha=0.2)\n",
    "\n",
    "\n",
    "#X-axis parameters\n",
    "ax.set_xlabel(\"Time (min)\", **font)\n",
    "ax.plot(Hunch[\"Time (min)\"],Hunch[\"Stimulated\"], label=\"Stimulated\", color='y')\n",
    "ax.fill_between(Hunch[\"Time (min)\"],Hunch[\"Stimulated\"] - Hunch[\"Stimulated std\"], Hunch[\"Stimulated\"] + Hunch[\"Stimulated std\"],\n",
    "                 color='gray', alpha=0.2)\n",
    "\n",
    "ax.plot(Hunch[\"Time (min)\"],Hunch[\"Unstimulated\"], label=\"Unstimulated\", color='b')\n",
    "ax.fill_between(Hunch[\"Time (min)\"],Hunch[\"Unstimulated\"] - Hunch[\"Unstimulated std\"], Hunch[\"Unstimulated\"] + Hunch[\"Unstimulated std\"],\n",
    "                 color='gray', alpha=0.2)\n",
    "\n",
    "#Y-axis parameters\n",
    "ax.set_ylabel('Hunch (cm)', **font)\n",
    "\n",
    "#Title and legend parameters\n",
    "ax.set_title((\"Average Nose to Tail Separation of \"+CON[8::]+ \" animals in the Open Field\"), **font)\n",
    "handles, labels = ax.get_legend_handles_labels()\n",
    "ax.legend(handles[::-1], labels[::-1])\n",
    "\n",
    "# Hide the right and top spines\n",
    "ax.spines['right'].set_visible(False)\n",
    "ax.spines['top'].set_visible(False)\n",
    "plt.legend(frameon=False)\n",
    "\n",
    "display()\n",
    "\n",
    "file_path1=data_path+CON+'/Hunch.csv'\n",
    "file_path2=data_path+CON+'/Hunch.png'\n",
    "\n",
    "Hunch.to_csv(file_path1)\n",
    "\n",
    "plt.savefig(file_path2, dpi=300, transparent=True)"
   ]
  },
  {
   "cell_type": "code",
   "execution_count": 9,
   "metadata": {},
   "outputs": [],
   "source": [
    "#This cell will compute the sum of the movement for each input video, it was one option for finding total distance moved, but a more elegant solution is to use the integer of the average and thus this cell is depracated but not deleted incase future analysis is interested in comparing the two methods\n",
    "\n",
    "# This function will compute the sum of each video from a given delta condition\n",
    "def summarizer(delta,name):\n",
    "\n",
    "# These local variables are initialized\n",
    "    animal=pd.DataFrame()\n",
    "    summy=0\n",
    "    ii=0\n",
    "\n",
    "# This loop iterates through the full legnth of delta df\n",
    "    for index in range(len(delta)+1):\n",
    "#     This loop will add all values after calculating the distancetraveled frame by frame\n",
    "            try:\n",
    "                COM = np.sqrt((delta.loc[index+1,\"COM X\"]-delta.loc[index,\"COM X\"])**2 + (delta.loc[index+1,\"COM Y\"]-delta.loc[index,\"COM Y\"])**2)    \n",
    "                \n",
    "                summy=summy+COM\n",
    "# A gap exists when in the df delta where each new video begins and the key exception that results is used to store the sum of the previous video\n",
    "            except KeyError:\n",
    "            \n",
    "                animal.loc[ii,name]=summy\n",
    "#             ii is the index for the output df sunnny where each row is a different video\n",
    "                ii=ii+1\n",
    "                #pass\n",
    "                summy=0\n",
    "                \n",
    "    return(animal)    \n",
    "\n",
    "sum_unstim=NStim_delta\n",
    "sum_stim=Stim_delta\n",
    "sum_stim=summarizer(sum_stim,\"Stimulated\")\n",
    "sum_unstim=summarizer(sum_unstim,\"Unstimulated\")"
   ]
  },
  {
   "cell_type": "code",
   "execution_count": 11,
   "metadata": {},
   "outputs": [
    {
     "data": {
      "image/png": "[encoded data removed]",
      "text/plain": [
       "<Figure size 432x288 with 1 Axes>"
      ]
     },
     "metadata": {
      "needs_background": "light"
     },
     "output_type": "display_data"
    }
   ],
   "source": [
    "U=COM[\"Unstimulated\"]\n",
    "U_high=COM[\"Unstimulated\"]+COM[\"Unstimulated std\"]\n",
    "U_low=COM[\"Unstimulated\"]-COM[\"Unstimulated std\"]\n",
    "\n",
    "# The integral of the averge change in movement is found in order to calculate the total movement during the recoridn period\n",
    "U=scipy.integrate.simps(U,COM['Time (min)'],U)\n",
    "U_error=[scipy.integrate.simps(U_high,COM['Time (min)']), \n",
    "         scipy.integrate.simps(U_low,COM['Time (min)'])]\n",
    "\n",
    "\n",
    "# The integral of the averge change in movement is found in order to calculate the total movement during the recoridn period\n",
    "S=COM[\"Stimulated\"]\n",
    "S_high=COM[\"Stimulated\"]+COM[\"Stimulated std\"]\n",
    "S_low=COM[\"Stimulated\"]-COM[\"Stimulated std\"]\n",
    "\n",
    "S=scipy.integrate.simps(S,COM['Time (min)'])\n",
    "S_error=[scipy.integrate.simps(S_high,COM['Time (min)']), \n",
    "         scipy.integrate.simps(S_low,COM['Time (min)'])]\n",
    "\n",
    "# Plotting bar graph of total movement observed\n",
    "fig = plt.figure()\n",
    "ax = fig.add_subplot(111)\n",
    "\n",
    "#X-axis parameters\n",
    "ax.set_xticks([1,2])\n",
    "ax.set_xticklabels([\"Stimulated\",\"Unstimulated\"], **font)\n",
    "plt.setp(plt.xticks()[1], rotation=0)\n",
    "\n",
    "ax.bar([1,2], [S,U], yerr=[(S-S_error[1]),(U-U_error[1])], align='center', alpha=0.5, color=['y','b'],ecolor='black', capsize=10)\n",
    "\n",
    "#Y-axis parameters\n",
    "ax.set_ylabel('Total Movement in 30 Minutes (cm)', **font)\n",
    "\n",
    "#Title and legend parameters\n",
    "ax.set_title((\"Total Movement of \"+CON[8::]+ \" animals in the Open Field\"), **font)\n",
    "handles, labels = ax.get_legend_handles_labels()\n",
    "#ax.legend(handles[::-1], labels[::-1])\n",
    "\n",
    "# Hide the right and top spines\n",
    "ax.spines['right'].set_visible(False)\n",
    "ax.spines['top'].set_visible(False)\n",
    "#plt.legend(frameon=False)\n",
    "\n",
    "display()\n",
    "\n",
    "file_path2=data_path+CON+'/Tot_mov.png'\n",
    "\n",
    "plt.savefig(file_path2, dpi=300, transparent=True)"
   ]
  }
 ],
 "metadata": {
  "kernelspec": {
   "display_name": "Python 3",
   "language": "python",
   "name": "python3"
  },
  "language_info": {
   "codemirror_mode": {
    "name": "ipython",
    "version": 3
   },
   "file_extension": ".py",
   "mimetype": "text/x-python",
   "name": "python",
   "nbconvert_exporter": "python",
   "pygments_lexer": "ipython3",
   "version": "3.7.3"
  }
 },
 "nbformat": 4,
 "nbformat_minor": 2
}

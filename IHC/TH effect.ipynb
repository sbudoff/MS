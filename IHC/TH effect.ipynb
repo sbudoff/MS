{
 "cells": [
  {
   "cell_type": "markdown",
   "metadata": {},
   "source": [
    "# TH Percent Calculator\n",
    "This workbook calculates the percent of TH positvie cells remaining as per ImageJ analysis based on the formula $$C=\\frac{G-W}{G+W}$$ Where $C$ is contrast, $G$ is the inverted intensity of the striatum, $W$ is the inverted intensity of the corpus callosum. Following this calculation, $$R=\\frac{\\overline{C_{PD}}}{\\overline{C_{Sham}}}$$"
   ]
  },
  {
   "cell_type": "code",
   "execution_count": 2,
   "metadata": {},
   "outputs": [],
   "source": [
    "TH={\"Sham_Str\":[160.812,126.538,131.735,124.129,150.362,138.663],\n",
    "    'Sham_CC':[177.862,177.862,138.779,138.779,189.349,189.349],\n",
    "    'PD_Str':[166.747,190.114,135.478,174.261],\n",
    "   \"PD_CC\":[176.627,176.627,141.605,141.605]}\n"
   ]
  },
  {
   "cell_type": "code",
   "execution_count": 10,
   "metadata": {},
   "outputs": [
    {
     "name": "stdout",
     "output_type": "stream",
     "text": [
      "TH positive cells in the parkinsonian Striatum are 14% of the healthy animal's.\n"
     ]
    }
   ],
   "source": [
    "def NormAv(TH):\n",
    "    sham=0\n",
    "    PD=0\n",
    "    for ii in range(len(TH[\"Sham_Str\"])):\n",
    "        #This makes darker the higher value and normalizes to cortex\n",
    "        norm=((255-TH[\"Sham_Str\"][ii])-(255-TH[\"Sham_CC\"][ii]))/((255-TH[\"Sham_Str\"][ii])+(255-TH[\"Sham_CC\"][ii]))\n",
    "        if norm < 0:\n",
    "            norm=0\n",
    "        #print(norm, \"value of sham animal\", ii+1)\n",
    "        #This makes the average of teh normalized striatal darkness \n",
    "        sham=sham+norm\n",
    "    sham=sham/len(TH[\"Sham_Str\"])\n",
    "    #print(sham)\n",
    "    \n",
    "    for ii in range(len(TH[\"PD_Str\"])):\n",
    "        norm=((255-TH[\"PD_Str\"][ii])-(255-TH[\"PD_CC\"][ii]))/((255-TH[\"PD_Str\"][ii])+(255-TH[\"PD_CC\"][ii]))\n",
    "        if norm < 0:\n",
    "            norm=0\n",
    "        #print(norm, \"value of PD animal str\", ii+1)\n",
    "        PD=PD+norm\n",
    "    PD=PD/len(TH[\"PD_Str\"])\n",
    "    #print(PD)\n",
    "    Ratio=PD/sham\n",
    "    return(Ratio)\n",
    "Ratio=NormAv(TH)\n",
    "\n",
    "print(\"TH positive cells in the parkinsonian Striatum are\", \n",
    "      \"%.0f%%\" % (100 * Ratio),\"of the healthy animal's.\")"
   ]
  }
 ],
 "metadata": {
  "kernelspec": {
   "display_name": "Python 3",
   "language": "python",
   "name": "python3"
  },
  "language_info": {
   "codemirror_mode": {
    "name": "ipython",
    "version": 3
   },
   "file_extension": ".py",
   "mimetype": "text/x-python",
   "name": "python",
   "nbconvert_exporter": "python",
   "pygments_lexer": "ipython3",
   "version": "3.7.3"
  }
 },
 "nbformat": 4,
 "nbformat_minor": 2
}
